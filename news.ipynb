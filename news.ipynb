{
 "cells": [
  {
   "cell_type": "code",
   "execution_count": 135,
   "metadata": {},
   "outputs": [
    {
     "name": "stdout",
     "output_type": "stream",
     "text": [
      "Requirement already satisfied: beautifulsoup4 in c:\\users\\smhrd\\anaconda3\\envs\\p38_yolov5\\lib\\site-packages (4.12.0)\n",
      "Requirement already satisfied: requests in c:\\users\\smhrd\\anaconda3\\envs\\p38_yolov5\\lib\\site-packages (2.28.2)\n",
      "Requirement already satisfied: soupsieve>1.2 in c:\\users\\smhrd\\anaconda3\\envs\\p38_yolov5\\lib\\site-packages (from beautifulsoup4) (2.4)\n",
      "Requirement already satisfied: urllib3<1.27,>=1.21.1 in c:\\users\\smhrd\\anaconda3\\envs\\p38_yolov5\\lib\\site-packages (from requests) (1.26.15)\n",
      "Requirement already satisfied: idna<4,>=2.5 in c:\\users\\smhrd\\anaconda3\\envs\\p38_yolov5\\lib\\site-packages (from requests) (3.4)\n",
      "Requirement already satisfied: charset-normalizer<4,>=2 in c:\\users\\smhrd\\anaconda3\\envs\\p38_yolov5\\lib\\site-packages (from requests) (3.1.0)\n",
      "Requirement already satisfied: certifi>=2017.4.17 in c:\\users\\smhrd\\anaconda3\\envs\\p38_yolov5\\lib\\site-packages (from requests) (2022.12.7)\n",
      "Requirement already satisfied: selenium in c:\\users\\smhrd\\anaconda3\\envs\\p38_yolov5\\lib\\site-packages (4.8.3)\n",
      "Requirement already satisfied: trio-websocket~=0.9 in c:\\users\\smhrd\\anaconda3\\envs\\p38_yolov5\\lib\\site-packages (from selenium) (0.10.2)\n",
      "Requirement already satisfied: trio~=0.17 in c:\\users\\smhrd\\anaconda3\\envs\\p38_yolov5\\lib\\site-packages (from selenium) (0.22.0)\n",
      "Requirement already satisfied: certifi>=2021.10.8 in c:\\users\\smhrd\\anaconda3\\envs\\p38_yolov5\\lib\\site-packages (from selenium) (2022.12.7)\n",
      "Requirement already satisfied: urllib3[socks]~=1.26 in c:\\users\\smhrd\\anaconda3\\envs\\p38_yolov5\\lib\\site-packages (from selenium) (1.26.15)\n",
      "Requirement already satisfied: idna in c:\\users\\smhrd\\anaconda3\\envs\\p38_yolov5\\lib\\site-packages (from trio~=0.17->selenium) (3.4)\n",
      "Requirement already satisfied: attrs>=19.2.0 in c:\\users\\smhrd\\anaconda3\\envs\\p38_yolov5\\lib\\site-packages (from trio~=0.17->selenium) (22.2.0)\n",
      "Requirement already satisfied: outcome in c:\\users\\smhrd\\anaconda3\\envs\\p38_yolov5\\lib\\site-packages (from trio~=0.17->selenium) (1.2.0)\n",
      "Requirement already satisfied: cffi>=1.14 in c:\\users\\smhrd\\anaconda3\\envs\\p38_yolov5\\lib\\site-packages (from trio~=0.17->selenium) (1.15.1)\n",
      "Requirement already satisfied: sniffio in c:\\users\\smhrd\\anaconda3\\envs\\p38_yolov5\\lib\\site-packages (from trio~=0.17->selenium) (1.3.0)\n",
      "Requirement already satisfied: sortedcontainers in c:\\users\\smhrd\\anaconda3\\envs\\p38_yolov5\\lib\\site-packages (from trio~=0.17->selenium) (2.4.0)\n",
      "Requirement already satisfied: async-generator>=1.9 in c:\\users\\smhrd\\anaconda3\\envs\\p38_yolov5\\lib\\site-packages (from trio~=0.17->selenium) (1.10)\n",
      "Requirement already satisfied: exceptiongroup>=1.0.0rc9 in c:\\users\\smhrd\\anaconda3\\envs\\p38_yolov5\\lib\\site-packages (from trio~=0.17->selenium) (1.1.1)\n",
      "Requirement already satisfied: wsproto>=0.14 in c:\\users\\smhrd\\anaconda3\\envs\\p38_yolov5\\lib\\site-packages (from trio-websocket~=0.9->selenium) (1.2.0)\n",
      "Requirement already satisfied: PySocks!=1.5.7,<2.0,>=1.5.6 in c:\\users\\smhrd\\anaconda3\\envs\\p38_yolov5\\lib\\site-packages (from urllib3[socks]~=1.26->selenium) (1.7.1)\n",
      "Requirement already satisfied: pycparser in c:\\users\\smhrd\\anaconda3\\envs\\p38_yolov5\\lib\\site-packages (from cffi>=1.14->trio~=0.17->selenium) (2.21)\n",
      "Requirement already satisfied: h11<1,>=0.9.0 in c:\\users\\smhrd\\anaconda3\\envs\\p38_yolov5\\lib\\site-packages (from wsproto>=0.14->trio-websocket~=0.9->selenium) (0.14.0)\n",
      "Requirement already satisfied: webdriver-manager in c:\\users\\smhrd\\anaconda3\\envs\\p38_yolov5\\lib\\site-packages (3.8.5)\n",
      "Requirement already satisfied: tqdm in c:\\users\\smhrd\\anaconda3\\envs\\p38_yolov5\\lib\\site-packages (from webdriver-manager) (4.65.0)\n",
      "Requirement already satisfied: python-dotenv in c:\\users\\smhrd\\anaconda3\\envs\\p38_yolov5\\lib\\site-packages (from webdriver-manager) (1.0.0)\n",
      "Requirement already satisfied: packaging in c:\\users\\smhrd\\anaconda3\\envs\\p38_yolov5\\lib\\site-packages (from webdriver-manager) (23.0)\n",
      "Requirement already satisfied: requests in c:\\users\\smhrd\\anaconda3\\envs\\p38_yolov5\\lib\\site-packages (from webdriver-manager) (2.28.2)\n",
      "Requirement already satisfied: charset-normalizer<4,>=2 in c:\\users\\smhrd\\anaconda3\\envs\\p38_yolov5\\lib\\site-packages (from requests->webdriver-manager) (3.1.0)\n",
      "Requirement already satisfied: urllib3<1.27,>=1.21.1 in c:\\users\\smhrd\\anaconda3\\envs\\p38_yolov5\\lib\\site-packages (from requests->webdriver-manager) (1.26.15)\n",
      "Requirement already satisfied: idna<4,>=2.5 in c:\\users\\smhrd\\anaconda3\\envs\\p38_yolov5\\lib\\site-packages (from requests->webdriver-manager) (3.4)\n",
      "Requirement already satisfied: certifi>=2017.4.17 in c:\\users\\smhrd\\anaconda3\\envs\\p38_yolov5\\lib\\site-packages (from requests->webdriver-manager) (2022.12.7)\n",
      "Requirement already satisfied: colorama in c:\\users\\smhrd\\anaconda3\\envs\\p38_yolov5\\lib\\site-packages (from tqdm->webdriver-manager) (0.4.6)\n"
     ]
    }
   ],
   "source": [
    "!pip install beautifulsoup4 requests\n",
    "!pip install selenium\n",
    "!pip install webdriver-manager\n",
    "!pip install summa\n",
    "!pip install git+https://github.com/lovit/textrank.git\n",
    "!pip install konlpy"
   ]
  },
  {
   "cell_type": "code",
   "execution_count": 196,
   "metadata": {},
   "outputs": [
    {
     "name": "stdout",
     "output_type": "stream",
     "text": [
      "\n",
      "크롤링할 시작 페이지:  1 페이지\n",
      "\n",
      "크롤링할 종료 페이지:  2 페이지\n"
     ]
    },
    {
     "name": "stderr",
     "output_type": "stream",
     "text": [
      "C:\\Users\\smhrd\\AppData\\Local\\Temp\\ipykernel_20748\\1821716915.py:42: DeprecationWarning: executable_path has been deprecated, please pass in a Service object\n",
      "  driver = webdriver.Chrome(ChromeDriverManager().install())\n"
     ]
    },
    {
     "name": "stdout",
     "output_type": "stream",
     "text": [
      "https://www.segye.com/\n",
      "https://n.news.naver.com/mnews/article/022/0003329149?sid=102\n",
      "https://www.lawtimes.co.kr/\n",
      "https://www.lawtimes.co.kr/\n",
      "['https://n.news.naver.com/mnews/article/022/0003329149?sid=102']\n"
     ]
    }
   ],
   "source": [
    "#크롤링시 필요한 라이브러리 불러오기\n",
    "from bs4 import BeautifulSoup\n",
    "import requests\n",
    "import re\n",
    "import time\n",
    "from selenium import webdriver\n",
    "from selenium.webdriver.common.by import By\n",
    "from webdriver_manager.chrome import ChromeDriverManager\n",
    "\n",
    "#웹드라이버 설정\n",
    "options = webdriver.ChromeOptions()\n",
    "options.add_experimental_option(\"excludeSwitches\", [\"enable-automation\"])\n",
    "options.add_experimental_option(\"useAutomationExtension\", False)\n",
    "\n",
    "def makeUrl(search, page, page2):\n",
    "    search_urls = []\n",
    "    base_url = \"https://search.naver.com/search.naver?where=news&query=\"\n",
    "    search = urllib.parse.quote(search)\n",
    "    for p in range(page, page2 + 1):\n",
    "        start = (p - 1) * 10 + 1\n",
    "        search_url = base_url + search + \"&start=\" + str(start)\n",
    "        search_urls.append(search_url)\n",
    "    return search_urls\n",
    "#(부동산 건축물대장 사기피해,부동산 등기부등본 사기피해, 부동산 신분증 사기피해,부동산 위임장 사기피해, 후견등기사항 부존재증명서 피해)\n",
    "#검색어 입력\n",
    "search = input(\"검색할 키워드를 입력해주세요:\")\n",
    "\n",
    "#검색 시작할 페이지 입력\n",
    "page = int(1)\n",
    "#page = int(input(\"\\n크롤링할 시작 페이지를 입력해주세요. ex)1(숫자만입력):\"))\n",
    "print(\"\\n크롤링할 시작 페이지: \",page,\"페이지\")   \n",
    "#검색 종료할 페이지 입력\n",
    "page2 = int(2)\n",
    "#page2 = int(input(\"\\n크롤링할 종료 페이지를 입력해주세요. ex)1(숫자만입력):\"))\n",
    "print(\"\\n크롤링할 종료 페이지: \",page2,\"페이지\")   \n",
    "\n",
    "# naver url 생성\n",
    "search_urls = makeUrl(search,page,page2)\n",
    "\n",
    "## selenium으로 navernews만 뽑아오기##\n",
    "# 버전에 상관 없이 os에 설치된 크롬 브라우저 사용\n",
    "driver = webdriver.Chrome(ChromeDriverManager().install())\n",
    "driver.implicitly_wait(3)\n",
    "\n",
    "# selenium으로 검색 페이지 불러오기 #\n",
    "naver_urls=[]\n",
    "\n",
    "for i in search_urls:\n",
    "    driver.get(i)\n",
    "    time.sleep(1) #대기시간 변경 가능\n",
    "\n",
    "    # 네이버 기사 눌러서 제목 및 본문 가져오기#\n",
    "    # 네이버 기사가 있는 기사 css selector 모아오기\n",
    "    a = driver.find_elements(By.CSS_SELECTOR,'a.info')\n",
    "\n",
    "    # 위에서 생성한 css selector list 하나씩 클릭하여 본문 url얻기\n",
    "    for i in a:\n",
    "        i.click()\n",
    "\n",
    "        # 현재탭에 접근\n",
    "        driver.switch_to.window(driver.window_handles[1])\n",
    "        time.sleep(3) #대기시간 변경 가능\n",
    "\n",
    "        # 네이버 뉴스 url만 가져오기\n",
    "        url = driver.current_url\n",
    "        print(url)\n",
    "\n",
    "        if \"news.naver.com\" in url:\n",
    "            naver_urls.append(url)\n",
    "        else:\n",
    "            pass\n",
    "        \n",
    "        # 현재 탭 닫기\n",
    "        driver.close()\n",
    "\n",
    "        # 다시처음 탭으로 돌아가기(매우 중요!!!)\n",
    "        driver.switch_to.window(driver.window_handles[0])\n",
    "\n",
    "print(naver_urls)\n"
   ]
  },
  {
   "cell_type": "code",
   "execution_count": 197,
   "metadata": {},
   "outputs": [
    {
     "name": "stdout",
     "output_type": "stream",
     "text": [
      "['2019년 새해 이렇게 달라집니다']\n",
      "['\\n최저임금 시간당 8350원… 종부세 최고세율 3.2%로 상향\\n\\n\\n\\n내년부터 최저임금이 시간당 8350원으로 인상된다. 모든 6세 미만 아동에게 월 10만원의 아동수당이 지급되며, 난임 부부를 위한 시술비 지원 및 대상도 확대된다. 주택분 종합부동산세 최고세율은 노무현정부 수준인 3.2%로 인상된다. 장병 3만6500명에게는 패딩형 운동복이 보급된다. 26일 정부는 이 같은 내용을 담은 ‘새해 달라지는 정책과 제도’를 소개했다.소상공인 등 카드수수료 부담 완화△주택 종부세 최고세율 상향=주택분 종부세 최고세율이 현행 2%에서 3.2%로 상향된다. 3주택 이상 보유자와 서울 등 집값이 급등한 조정대상지역 2주택 이상 보유자가 대상이다. 또 종부세 과표 3억∼6억원 구간을 신설해 세율을 0.7%로 0.2%포인트 인상한다.△근로장려금 지급총액 3배로 확대 =근로장려금의 지급 요건 완화로 적용 대상이 크게 늘어난다. 우선 단독가구의 연령 요건(30세 이상)이 폐지되고, 소득 요건도 낮아진다. 정부는 이에 따라 근로장려금 지급총액이 약 3배로 확대될 것으로 추산하고 있다.△노후 경유차 교체하면 개별소비세 감면=오래된 경유차를 폐차하고 승용차를 새로 사는 경우 143만원 한도에서 개별소비세 70를 감면받는다. 2008년 이전에 최초 등록한 경유 자동차를 올해 6월 30일 현재 등록·소유한 자가 지원 대상이다.△신용카드 매출세액 공제 한도 확대·우대 기한 연장=자영업자를 지원하기 위해 신용카드 매출세액 공제 한도가 현행 500만원에서 내년부터 1000만원으로 확대된다. 매출세액 우대공제율(2.6, 1.3) 적용기한은 올해 말에서 2021년 말까지로 3년 연장된다.△소상공인·자영업자 카드수수료 부담 완화=소상공인·자영업자 등 가맹점의 카드수수료 부담을 줄이기 위해 신용카드 및 체크카드 우대수수료율 적용구간이 연매출 5억원 이하에서 30억원 이하로 확대된다. △박물관·미술관 입장료도 신용카드 소득공제=박물관·미술관 입장료도 신용카드 등 사용금액 소득공제를 받게 된다. 도서·공연비·박물관·미술관 입장료를 합해 100만원의 한도가 적용된다.귀화·국적회복자 ‘국민선서’ 의무화△귀화 및 국적회복자들에 ‘국민선서’ 의무화=한국에 귀화하거나 한국 국적을 회복하려는 자는 법무부 산하 출입국·외국인청 또는 사무소에서 열리는 ‘국적증서 수여식’에 반드시 참석해 “대한민국 국민으로서 헌법과 법률을 존중하고 국민의 의무를 다하겠다”는 내용의 국민선서를 해야 한다.△디지털 성범죄 피해자 맞춤형 지원 확대=디지털성범죄로 고통받는 피해자들을 위한 지원이 강화된다. 영상물의 신속한 삭제 등을 지원하는 ‘디지털성범죄 피해자 지원센터’ 인력이 16명에서 26명으로 확대되고 불법 촬영 및 유포 피해뿐만 아니라 사이버 성적 괴롭힘, 몸캠 피해 등까지도 지원한다.△후견등기사항 부존재증명서 온라인에서 무료 발급=공무원 임용이나 취업, 각종 인허가, 자격증 취득 등을 위해 ‘후견등기사항 부존재증명서’가 필요할 때 대법원 온라인 사이트 ‘전자후견등기시스템’에서 공인인증서를 통해 본인 확인 절차를 거친 다음 증명서를 무료로 발급받을 수 있다.아빠 육아휴직 보너스 상한액 250만원△최저임금 인상 및 산입 범위 확대=시간당 최저임금이 8350원으로 올해(7530원)보다 10.9% 인상된다. 최저임금은 상용근로자뿐 아니라 임시직·일용직·시간제 근로자, 외국인 근로자 등 모든 근로자에 적용된다. 매월 1회 이상 정기적으로 지급하는 상여금과 통화로 지급하는 복리후생비의 일정 비율이 최저임금 산입 범위에 포함된다.△아동수당 보편지급 및 대상연령 확대=지금까지는 2인 이상이면서 소득·재산 90% 이하인 가구에 아동수당을 지급했으나 1월부터 부모의 경제적 수준과 관계없이 만 6세 미만 모든 아동에 월 10만원의 아동수당이 지급된다. 대상연령 역시 현재 만 6세 미만에서 9월부터는 초등학교 입학 전 최대 84개월 아동으로 확대될 예정이다.△아빠휴직 보너스제 월 상한액, 250만원으로 50만원 상향=남성 육아휴직을 장려하기 위해 도입된 육아휴직급여 특례제도인 ‘아빠육아휴직 보너스제’ 월 상한액이 200만원에서 250만원으로 인상된다. 또 지금까지 육아휴직 첫 3개월 이후 최대 9개월간 급여를 통상임금의 40%(월 상한 100만원, 하한 50만원) 기준으로 지급됐으나, 내년부터 통상임금의 50%(월 상한 120만원, 하한 70만원) 기준으로 상향된다. △한부모가족시설 아이돌보미 파견=2019년부터 한부모가족복지시설 내 한부모가 취업이나 학업 등으로 양육 공백을 겪는 경우 시설장의 요청에 따라 돌보미가 시설을 찾아 무상으로 아이들을 돌본다. 돌보미는 3명 이상의 아동을 한꺼번에 돌보게 된다. △난임부부 시술비 지원 대상 및 규모 확대=난임부부 시술비 지원 대상이 중위소득 130%에서 180%로 확대·적용된다. 기존에는 신선배아 체외수정 4회만 지원했으나 앞으로는 신선배아 체외수정 4회, 동결배아 체외수정 3회, 인공수정 3회 등 모두 10회로 지원횟수도 확대된다. 지원 제외 항목이었던 착상유도제, 유산방지제, 배아 동결 및 보관 비용도 지원 항목으로 포함됐다.최전방 근무 장병에 패딩형 점퍼 지급△최전방부대 장병 ‘패딩’ 지급=육군 전방사단 및 해군·해병대 서북도서 부대, 공군 방공관제대 등 격오지 부대에서 복무하는 장병 3만6500명에게 패딩형 운동복이 보급된다. 예산 20억4600만원이 투입된다. 기타 장병 복지 향상을 위해 봄가을 지급되는 춘추 운동복을 1인당 1벌씩에서 2벌씩으로 늘린다. 일제강점기 유래한 부정적 이미지를 해소하기 위해 ‘헌병’ 병과를 ‘군사경찰’로 개칭했다.교육급여 초등 20만원, 중·고 29만원△초·중·고교생 대상 교육급여 인상=내년부터 교육급여 대상자인 초등학생은 연간 20만3000원, 중·고등학생은 29만원의 학용품비와 부교재비를 지원받을 수 있다. 또 학용품비를 연 2회 분할 지급하던 것을 연 1회 일괄 지급한 것으로 바뀐다.△교과서 자유발행제 도입= 학교 수업의 자율성과 창의성을 높이기 위해 일부 과목에 인정도서의 심사 기준 및 절차를 간소화한 자유발행 형식의 인정도서가 4월 도입된다. 지금까지는 교과기준과 공통기준을 준수하고 심사기간도 9개월 걸렸지만, 자유발행도서는 공통기준 준수 여부만 확인하고 심사기간도 3∼4개월로 단축된다.귀농자금 부정수급자 최대 징역 10년△귀농자금 부정수급자 처벌 기준 신설=귀농·귀촌인에게 지급되는 지원금 지급 심사와 사후 검증이 강화된다. 정부는 귀농자금 사전대출 한도를 축소하고 지원대상자 심층 면접평가를 의무화한다. 처벌규정이 신설돼 지원금을 부정으로 수급하거나 부정수급을 유도하면 10년 이하의 징역 또는 2000만원 이하의 벌금형이 선고된다. 귀농·귀어·귀산촌 자금의 중복지원을 막기 위해 ‘귀농 창업자금 정보시스템’에 자금 지원내용 조회 기능을 새롭게 도입한다.△스마트팜·스마트 축사 확대=농업의 혁신동력으로 꼽히는 스마트팜 혁신밸리 2차 대상지가 선정된다. 지난 8월 1차 대상지로 선정된 경북 상주시와 전북 김제시에 이어 추가로 2곳에 스마트팜 혁신밸리를 조성한다. 첨단기술로 공동방역·분뇨처리가 가능한 스마트축산 시범단지 3곳을 만들고, 데이터 기반으로 농작업을 자동화한 밭농업형 모델을 5곳에서 10곳으로 확산한다. △밀 1만t 수매·밀쌀 군납 추진=밀 자급률 확대와 밀 산업 육성을 위해 정부가 35년 만에 밀 수매비축제를 새롭게 개편·도입한다. 1만t 수준의 밀을 수매해 과잉공급으로 가격이 폭락한 밀 가격을 끌어올린다. 군에 밀쌀을 납품하고 밀쌀 학교급식을 수도권 외 지역으로 확대해 국산 밀 수요를 늘려 밀 농가의 안정적인 소득 창출을 지원한다.미세먼지 비상저감조치 땐 車 운행 제한△비상저감조치 발령 시 5등급 차량 운행 제한=고농도 미세먼지 발생으로 비상저감조치가 발령되면 미세먼지를 많이 배출하는 5등급 차량은 운행이 제한된다. 서울, 인천, 경기 등 수도권 지역부터 배출가스 5등급 차량까지 운행규제를 확대해 나갈 계획이다. 5등급 차량은 주로 노후 경유차가 해당되며, 위반 시에는 10만원 이하의 과태료가 부과된다. △‘체크바캉스’ 혜택 8만명 확대=올해 처음 시행한 근로자 휴가지원 사업 대상이 내년에 8만명으로 확대된다. 올해는 2만명이 지원받았다. 근로자 휴가지원 사업은 근로자가 20만원을 부담하면 기업이 10만원, 정부가 10만원을 각각 지원해 휴가 때 총 40만원의 적립금을 전용 온라인몰을 통해 국내 여행에 사용하는 제도다.△문화누리카드 8만원으로 인상=소외계층에 발급되는 통합문화이용권인 문화누리카드의 개인별 지원금이 연간 7만원에서 내년부터 8만원으로 오른다. 수혜자는 166만명으로 올해보다 2만명 늘어난다.17개 시도 지방공무원 채용일정 ‘통일’△지방소비세, 부가가치세의 15%로 확대=본격적인 재정분권의 첫 시작으로 부가가치세의 11%에 머무르던 지방소비세가 15%로 확대된다. 2016년 결산기준으로 6조4000원이던 지방소비세가 내년에 9조7000억원으로 늘어난다. 2010년 도입된 지방소비세는 지방자치단체의 재정을 보조하기 위해 국세로 걷은 부가가치세 일부를 나눠 주는 세목이다. 정부는 2020년까지 지방소비세 세율을 21%까지 단계적으로 인상한다. △17개 시도 지방직 공무원 채용 일정 통일=서울시와 16개 시도의 7∼9급 공무원 공개경쟁 신규임용 필기시험이 같은 날에 치러진다. 올해까지는 16개 시도와 서울시의 지방공무원 신규임용 필기시험 일정이 달라 중복 접수·합격으로 인한 시험관리 낭비 문제 등이 꾸준히 발생했다. 9급 필기시험은 6월 15일, 7급 필기시험은 10월 12일에 실시된다.세종=안용성 기자, 편집국 종합 ysahn@segye.comⓒ 세상을 보는 눈, 글로벌 미디어 세계일보\\n']\n"
     ]
    }
   ],
   "source": [
    "###naver 기사 본문 및 제목 가져오기###\n",
    "import re\n",
    "# ConnectionError방지\n",
    "headers = { \"User-Agent\": \"Mozilla/5.0 (Windows NT 10.0; Win64; x64) AppleWebKit/537.36 (KHTML, like Gecko) Chrome/58.0.3029.110 Safari/537.36\" }\n",
    "\n",
    "titles = []\n",
    "contents=[]\n",
    "for i in naver_urls:\n",
    "    original_html = requests.get(i,headers=headers)\n",
    "    html = BeautifulSoup(original_html.text, \"html.parser\")\n",
    "    # 검색결과확인시\n",
    "    #print(html)\n",
    "    \n",
    "    #뉴스 제목 가져오기\n",
    "    title = html.select_one(\"div#ct > div.media_end_head.go_trans > div.media_end_head_title > h2\")\n",
    "    # list합치기\n",
    "    title = ''.join(str(title))\n",
    "    # html태그제거\n",
    "    pattern1 = '<[^>]*>'\n",
    "    title = re.sub(pattern=pattern1,repl='',string=title)\n",
    "    titles.append(title)\n",
    "\n",
    "    #뉴스 본문 가져오기\n",
    "    content = html.select_one(\"div#dic_area\")\n",
    "\n",
    "    # 기사 텍스트만 가져오기\n",
    "    # list합치기\n",
    "    content = ''.join(str(content))\n",
    "    \n",
    "    #html태그제거 및 텍스트 다듬기\n",
    "    content = re.sub(pattern=pattern1,repl='',string=content)\n",
    "    pattern2 = \"\"\"[\\n\\n\\n\\n\\n// flash 오류를 우회하기 위한 함수 추가\\nfunction _flash_removeCallback() {}\"\"\"\n",
    "    content = content.replace(pattern2,'')\n",
    "\n",
    "    contents.append(content)\n",
    "\n",
    "print(titles)\n",
    "print(contents)"
   ]
  },
  {
   "cell_type": "code",
   "execution_count": 198,
   "metadata": {},
   "outputs": [],
   "source": [
    "import os\n",
    "import pandas as pd\n",
    "\n",
    "# 저장할 폴더 경로 설정\n",
    "save_dir = 'C:/Users/smhrd/Desktop/news/'\n",
    "\n",
    "# 데이터프레임 생성\n",
    "data = {'titles': titles, 'contents': contents}\n",
    "df = pd.DataFrame(data)\n",
    "\n",
    "# 각 행마다 파일로 저장\n",
    "for i, row in df.iterrows():\n",
    "    # 파일 이름 지정\n",
    "    file_name = f\"{search}{i}.txt\"\n",
    "    \n",
    "    # 파일 경로 지정\n",
    "    file_path = os.path.join(save_dir, file_name)\n",
    "    \n",
    "    # 파일 쓰기\n",
    "    with open(file_path, 'w', encoding='utf-8') as f:\n",
    "        f.write(f\"{row['titles']}\\n\\n{row['contents']}\")\n"
   ]
  },
  {
   "cell_type": "code",
   "execution_count": 199,
   "metadata": {},
   "outputs": [
    {
     "name": "stdout",
     "output_type": "stream",
     "text": [
      "Summary for text 1:\n",
      "(0, 1.0, '2019년 새해 이렇게 달라집니다\\n\\n\\n최저임금 시간당 8350원… 종부세 최고세율 3.2%로 상향\\n\\n\\n\\n내년부터 최저임금이 시간당 8350원으로 인상된다. 모든 6세 미만 아동에게 월 10만원의 아동수당이 지급되며, 난임 부부를 위한 시술비 지원 및 대상도 확대된다. 주택분 종합부동산세 최고세율은 노무현정부 수준인 3.2%로 인상된다. 장병 3만6500명에게는 패딩형 운동복이 보급된다. 26일 정부는 이 같은 내용을 담은 ‘새해 달라지는 정책과 제도’를 소개했다.소상공인 등 카드수수료 부담 완화△주택 종부세 최고세율 상향=주택분 종부세 최고세율이 현행 2%에서 3.2%로 상향된다. 3주택 이상 보유자와 서울 등 집값이 급등한 조정대상지역 2주택 이상 보유자가 대상이다. 또 종부세 과표 3억∼6억원 구간을 신설해 세율을 0.7%로 0.2%포인트 인상한다.△근로장려금 지급총액 3배로 확대 =근로장려금의 지급 요건 완화로 적용 대상이 크게 늘어난다. 우선 단독가구의 연령 요건(30세 이상)이 폐지되고, 소득 요건도 낮아진다. 정부는 이에 따라 근로장려금 지급총액이 약 3배로 확대될 것으로 추산하고 있다.△노후 경유차 교체하면 개별소비세 감면=오래된 경유차를 폐차하고 승용차를 새로 사는 경우 143만원 한도에서 개별소비세 70를 감면받는다. 2008년 이전에 최초 등록한 경유 자동차를 올해 6월 30일 현재 등록·소유한 자가 지원 대상이다.△신용카드 매출세액 공제 한도 확대·우대 기한 연장=자영업자를 지원하기 위해 신용카드 매출세액 공제 한도가 현행 500만원에서 내년부터 1000만원으로 확대된다. 매출세액 우대공제율(2.6, 1.3) 적용기한은 올해 말에서 2021년 말까지로 3년 연장된다.△소상공인·자영업자 카드수수료 부담 완화=소상공인·자영업자 등 가맹점의 카드수수료 부담을 줄이기 위해 신용카드 및 체크카드 우대수수료율 적용구간이 연매출 5억원 이하에서 30억원 이하로 확대된다. △박물관·미술관 입장료도 신용카드 소득공제=박물관·미술관 입장료도 신용카드 등 사용금액 소득공제를 받게 된다. 도서·공연비·박물관·미술관 입장료를 합해 100만원의 한도가 적용된다.귀화·국적회복자 ‘국민선서’ 의무화△귀화 및 국적회복자들에 ‘국민선서’ 의무화=한국에 귀화하거나 한국 국적을 회복하려는 자는 법무부 산하 출입국·외국인청 또는 사무소에서 열리는 ‘국적증서 수여식’에 반드시 참석해 “대한민국 국민으로서 헌법과 법률을 존중하고 국민의 의무를 다하겠다”는 내용의 국민선서를 해야 한다.△디지털 성범죄 피해자 맞춤형 지원 확대=디지털성범죄로 고통받는 피해자들을 위한 지원이 강화된다. 영상물의 신속한 삭제 등을 지원하는 ‘디지털성범죄 피해자 지원센터’ 인력이 16명에서 26명으로 확대되고 불법 촬영 및 유포 피해뿐만 아니라 사이버 성적 괴롭힘, 몸캠 피해 등까지도 지원한다.△후견등기사항 부존재증명서 온라인에서 무료 발급=공무원 임용이나 취업, 각종 인허가, 자격증 취득 등을 위해 ‘후견등기사항 부존재증명서’가 필요할 때 대법원 온라인 사이트 ‘전자후견등기시스템’에서 공인인증서를 통해 본인 확인 절차를 거친 다음 증명서를 무료로 발급받을 수 있다.아빠 육아휴직 보너스 상한액 250만원△최저임금 인상 및 산입 범위 확대=시간당 최저임금이 8350원으로 올해(7530원)보다 10.9% 인상된다. 최저임금은 상용근로자뿐 아니라 임시직·일용직·시간제 근로자, 외국인 근로자 등 모든 근로자에 적용된다. 매월 1회 이상 정기적으로 지급하는 상여금과 통화로 지급하는 복리후생비의 일정 비율이 최저임금 산입 범위에 포함된다.△아동수당 보편지급 및 대상연령 확대=지금까지는 2인 이상이면서 소득·재산 90% 이하인 가구에 아동수당을 지급했으나 1월부터 부모의 경제적 수준과 관계없이 만 6세 미만 모든 아동에 월 10만원의 아동수당이 지급된다. 대상연령 역시 현재 만 6세 미만에서 9월부터는 초등학교 입학 전 최대 84개월 아동으로 확대될 예정이다.△아빠휴직 보너스제 월 상한액, 250만원으로 50만원 상향=남성 육아휴직을 장려하기 위해 도입된 육아휴직급여 특례제도인 ‘아빠육아휴직 보너스제’ 월 상한액이 200만원에서 250만원으로 인상된다. 또 지금까지 육아휴직 첫 3개월 이후 최대 9개월간 급여를 통상임금의 40%(월 상한 100만원, 하한 50만원) 기준으로 지급됐으나, 내년부터 통상임금의 50%(월 상한 120만원, 하한 70만원) 기준으로 상향된다. △한부모가족시설 아이돌보미 파견=2019년부터 한부모가족복지시설 내 한부모가 취업이나 학업 등으로 양육 공백을 겪는 경우 시설장의 요청에 따라 돌보미가 시설을 찾아 무상으로 아이들을 돌본다. 돌보미는 3명 이상의 아동을 한꺼번에 돌보게 된다. △난임부부 시술비 지원 대상 및 규모 확대=난임부부 시술비 지원 대상이 중위소득 130%에서 180%로 확대·적용된다. 기존에는 신선배아 체외수정 4회만 지원했으나 앞으로는 신선배아 체외수정 4회, 동결배아 체외수정 3회, 인공수정 3회 등 모두 10회로 지원횟수도 확대된다. 지원 제외 항목이었던 착상유도제, 유산방지제, 배아 동결 및 보관 비용도 지원 항목으로 포함됐다.최전방 근무 장병에 패딩형 점퍼 지급△최전방부대 장병 ‘패딩’ 지급=육군 전방사단 및 해군·해병대 서북도서 부대, 공군 방공관제대 등 격오지 부대에서 복무하는 장병 3만6500명에게 패딩형 운동복이 보급된다. 예산 20억4600만원이 투입된다. 기타 장병 복지 향상을 위해 봄가을 지급되는 춘추 운동복을 1인당 1벌씩에서 2벌씩으로 늘린다. 일제강점기 유래한 부정적 이미지를 해소하기 위해 ‘헌병’ 병과를 ‘군사경찰’로 개칭했다.교육급여 초등 20만원, 중·고 29만원△초·중·고교생 대상 교육급여 인상=내년부터 교육급여 대상자인 초등학생은 연간 20만3000원, 중·고등학생은 29만원의 학용품비와 부교재비를 지원받을 수 있다. 또 학용품비를 연 2회 분할 지급하던 것을 연 1회 일괄 지급한 것으로 바뀐다.△교과서 자유발행제 도입= 학교 수업의 자율성과 창의성을 높이기 위해 일부 과목에 인정도서의 심사 기준 및 절차를 간소화한 자유발행 형식의 인정도서가 4월 도입된다. 지금까지는 교과기준과 공통기준을 준수하고 심사기간도 9개월 걸렸지만, 자유발행도서는 공통기준 준수 여부만 확인하고 심사기간도 3∼4개월로 단축된다.귀농자금 부정수급자 최대 징역 10년△귀농자금 부정수급자 처벌 기준 신설=귀농·귀촌인에게 지급되는 지원금 지급 심사와 사후 검증이 강화된다. 정부는 귀농자금 사전대출 한도를 축소하고 지원대상자 심층 면접평가를 의무화한다. 처벌규정이 신설돼 지원금을 부정으로 수급하거나 부정수급을 유도하면 10년 이하의 징역 또는 2000만원 이하의 벌금형이 선고된다. 귀농·귀어·귀산촌 자금의 중복지원을 막기 위해 ‘귀농 창업자금 정보시스템’에 자금 지원내용 조회 기능을 새롭게 도입한다.△스마트팜·스마트 축사 확대=농업의 혁신동력으로 꼽히는 스마트팜 혁신밸리 2차 대상지가 선정된다. 지난 8월 1차 대상지로 선정된 경북 상주시와 전북 김제시에 이어 추가로 2곳에 스마트팜 혁신밸리를 조성한다. 첨단기술로 공동방역·분뇨처리가 가능한 스마트축산 시범단지 3곳을 만들고, 데이터 기반으로 농작업을 자동화한 밭농업형 모델을 5곳에서 10곳으로 확산한다. △밀 1만t 수매·밀쌀 군납 추진=밀 자급률 확대와 밀 산업 육성을 위해 정부가 35년 만에 밀 수매비축제를 새롭게 개편·도입한다. 1만t 수준의 밀을 수매해 과잉공급으로 가격이 폭락한 밀 가격을 끌어올린다. 군에 밀쌀을 납품하고 밀쌀 학교급식을 수도권 외 지역으로 확대해 국산 밀 수요를 늘려 밀 농가의 안정적인 소득 창출을 지원한다.미세먼지 비상저감조치 땐 車 운행 제한△비상저감조치 발령 시 5등급 차량 운행 제한=고농도 미세먼지 발생으로 비상저감조치가 발령되면 미세먼지를 많이 배출하는 5등급 차량은 운행이 제한된다. 서울, 인천, 경기 등 수도권 지역부터 배출가스 5등급 차량까지 운행규제를 확대해 나갈 계획이다. 5등급 차량은 주로 노후 경유차가 해당되며, 위반 시에는 10만원 이하의 과태료가 부과된다. △‘체크바캉스’ 혜택 8만명 확대=올해 처음 시행한 근로자 휴가지원 사업 대상이 내년에 8만명으로 확대된다. 올해는 2만명이 지원받았다. 근로자 휴가지원 사업은 근로자가 20만원을 부담하면 기업이 10만원, 정부가 10만원을 각각 지원해 휴가 때 총 40만원의 적립금을 전용 온라인몰을 통해 국내 여행에 사용하는 제도다.△문화누리카드 8만원으로 인상=소외계층에 발급되는 통합문화이용권인 문화누리카드의 개인별 지원금이 연간 7만원에서 내년부터 8만원으로 오른다. 수혜자는 166만명으로 올해보다 2만명 늘어난다.17개 시도 지방공무원 채용일정 ‘통일’△지방소비세, 부가가치세의 15%로 확대=본격적인 재정분권의 첫 시작으로 부가가치세의 11%에 머무르던 지방소비세가 15%로 확대된다. 2016년 결산기준으로 6조4000원이던 지방소비세가 내년에 9조7000억원으로 늘어난다. 2010년 도입된 지방소비세는 지방자치단체의 재정을 보조하기 위해 국세로 걷은 부가가치세 일부를 나눠 주는 세목이다. 정부는 2020년까지 지방소비세 세율을 21%까지 단계적으로 인상한다. △17개 시도 지방직 공무원 채용 일정 통일=서울시와 16개 시도의 7∼9급 공무원 공개경쟁 신규임용 필기시험이 같은 날에 치러진다. 올해까지는 16개 시도와 서울시의 지방공무원 신규임용 필기시험 일정이 달라 중복 접수·합격으로 인한 시험관리 낭비 문제 등이 꾸준히 발생했다. 9급 필기시험은 6월 15일, 7급 필기시험은 10월 12일에 실시된다.세종=안용성 기자, 편집국 종합 ysahn@segye.comⓒ 세상을 보는 눈, 글로벌 미디어 세계일보\\n')\n",
      "\n"
     ]
    }
   ],
   "source": [
    "import numpy as np\n",
    "from konlpy.tag import Okt\n",
    "from textrank import KeysentenceSummarizer\n",
    "\n",
    "# 파일 읽기\n",
    "results = []\n",
    "for i in range(len(titles)):\n",
    "    file_path = f\"C:/Users/smhrd/Desktop/news/{search}{i}.txt\"\n",
    "    with open(file_path, \"r\", encoding=\"utf-8\") as f:\n",
    "        text = f.read()\n",
    "        results.append(text)\n",
    "\n",
    "# NumPy 배열로 변환\n",
    "results_array = np.array(results)\n",
    "\n",
    "# 토큰화 함수 정의\n",
    "def okt_tokenizer(sent):\n",
    "    okt = Okt()\n",
    "    words = okt.nouns(sent)\n",
    "    return words\n",
    "\n",
    "# KeysentenceSummarizer 생성\n",
    "summarizer = KeysentenceSummarizer(tokenize=okt_tokenizer, min_sim=0.3, verbose=False)\n",
    "\n",
    "# 요약 생성\n",
    "summaries = []\n",
    "for content in results_array:\n",
    "    summary = summarizer.summarize([content], topk=3)\n",
    "    summaries.append(summary)\n",
    "\n",
    "# 요약 결과 출력\n",
    "for i, summary in enumerate(summaries):\n",
    "    print(f\"Summary for text {i + 1}:\")\n",
    "    for sentence in summary:\n",
    "        print(sentence)\n",
    "    print()\n"
   ]
  },
  {
   "cell_type": "code",
   "execution_count": 200,
   "metadata": {},
   "outputs": [
    {
     "data": {
      "text/plain": [
       "1"
      ]
     },
     "execution_count": 200,
     "metadata": {},
     "output_type": "execute_result"
    }
   ],
   "source": [
    "len(results)"
   ]
  },
  {
   "cell_type": "code",
   "execution_count": 179,
   "metadata": {},
   "outputs": [
    {
     "name": "stdout",
     "output_type": "stream",
     "text": [
      "부동산 등기부등본 사기 피해\n"
     ]
    }
   ],
   "source": [
    "print(search)"
   ]
  },
  {
   "cell_type": "code",
   "execution_count": 201,
   "metadata": {},
   "outputs": [
    {
     "name": "stdout",
     "output_type": "stream",
     "text": [
      "2019년 새해 이렇게 달라집니다\n",
      "\n",
      "\n",
      "최저임금 시간당 8350원… 종부세 최고세율 3.2%로 상향\n",
      "\n",
      "\n",
      "\n",
      "내년부터 최저임금이 시간당 8350원으로 인상된다. 모든 6세 미만 아동에게 월 10만원의 아동수당이 지급되며, 난임 부부를 위한 시술비 지원 및 대상도 확대된다. 주택분 종합부동산세 최고세율은 노무현정부 수준인 3.2%로 인상된다. 장병 3만6500명에게는 패딩형 운동복이 보급된다. 26일 정부는 이 같은 내용을 담은 ‘새해 달라지는 정책과 제도’를 소개했다.소상공인 등 카드수수료 부담 완화△주택 종부세 최고세율 상향=주택분 종부세 최고세율이 현행 2%에서 3.2%로 상향된다. 3주택 이상 보유자와 서울 등 집값이 급등한 조정대상지역 2주택 이상 보유자가 대상이다. 또 종부세 과표 3억∼6억원 구간을 신설해 세율을 0.7%로 0.2%포인트 인상한다.△근로장려금 지급총액 3배로 확대 =근로장려금의 지급 요건 완화로 적용 대상이 크게 늘어난다. 우선 단독가구의 연령 요건(30세 이상)이 폐지되고, 소득 요건도 낮아진다. 정부는 이에 따라 근로장려금 지급총액이 약 3배로 확대될 것으로 추산하고 있다.△노후 경유차 교체하면 개별소비세 감면=오래된 경유차를 폐차하고 승용차를 새로 사는 경우 143만원 한도에서 개별소비세 70를 감면받는다. 2008년 이전에 최초 등록한 경유 자동차를 올해 6월 30일 현재 등록·소유한 자가 지원 대상이다.△신용카드 매출세액 공제 한도 확대·우대 기한 연장=자영업자를 지원하기 위해 신용카드 매출세액 공제 한도가 현행 500만원에서 내년부터 1000만원으로 확대된다. 매출세액 우대공제율(2.6, 1.3) 적용기한은 올해 말에서 2021년 말까지로 3년 연장된다.△소상공인·자영업자 카드수수료 부담 완화=소상공인·자영업자 등 가맹점의 카드수수료 부담을 줄이기 위해 신용카드 및 체크카드 우대수수료율 적용구간이 연매출 5억원 이하에서 30억원 이하로 확대된다. △박물관·미술관 입장료도 신용카드 소득공제=박물관·미술관 입장료도 신용카드 등 사용금액 소득공제를 받게 된다. 도서·공연비·박물관·미술관 입장료를 합해 100만원의 한도가 적용된다.귀화·국적회복자 ‘국민선서’ 의무화△귀화 및 국적회복자들에 ‘국민선서’ 의무화=한국에 귀화하거나 한국 국적을 회복하려는 자는 법무부 산하 출입국·외국인청 또는 사무소에서 열리는 ‘국적증서 수여식’에 반드시 참석해 “대한민국 국민으로서 헌법과 법률을 존중하고 국민의 의무를 다하겠다”는 내용의 국민선서를 해야 한다.△디지털 성범죄 피해자 맞춤형 지원 확대=디지털성범죄로 고통받는 피해자들을 위한 지원이 강화된다. 영상물의 신속한 삭제 등을 지원하는 ‘디지털성범죄 피해자 지원센터’ 인력이 16명에서 26명으로 확대되고 불법 촬영 및 유포 피해뿐만 아니라 사이버 성적 괴롭힘, 몸캠 피해 등까지도 지원한다.△후견등기사항 부존재증명서 온라인에서 무료 발급=공무원 임용이나 취업, 각종 인허가, 자격증 취득 등을 위해 ‘후견등기사항 부존재증명서’가 필요할 때 대법원 온라인 사이트 ‘전자후견등기시스템’에서 공인인증서를 통해 본인 확인 절차를 거친 다음 증명서를 무료로 발급받을 수 있다.아빠 육아휴직 보너스 상한액 250만원△최저임금 인상 및 산입 범위 확대=시간당 최저임금이 8350원으로 올해(7530원)보다 10.9% 인상된다. 최저임금은 상용근로자뿐 아니라 임시직·일용직·시간제 근로자, 외국인 근로자 등 모든 근로자에 적용된다. 매월 1회 이상 정기적으로 지급하는 상여금과 통화로 지급하는 복리후생비의 일정 비율이 최저임금 산입 범위에 포함된다.△아동수당 보편지급 및 대상연령 확대=지금까지는 2인 이상이면서 소득·재산 90% 이하인 가구에 아동수당을 지급했으나 1월부터 부모의 경제적 수준과 관계없이 만 6세 미만 모든 아동에 월 10만원의 아동수당이 지급된다. 대상연령 역시 현재 만 6세 미만에서 9월부터는 초등학교 입학 전 최대 84개월 아동으로 확대될 예정이다.△아빠휴직 보너스제 월 상한액, 250만원으로 50만원 상향=남성 육아휴직을 장려하기 위해 도입된 육아휴직급여 특례제도인 ‘아빠육아휴직 보너스제’ 월 상한액이 200만원에서 250만원으로 인상된다. 또 지금까지 육아휴직 첫 3개월 이후 최대 9개월간 급여를 통상임금의 40%(월 상한 100만원, 하한 50만원) 기준으로 지급됐으나, 내년부터 통상임금의 50%(월 상한 120만원, 하한 70만원) 기준으로 상향된다. △한부모가족시설 아이돌보미 파견=2019년부터 한부모가족복지시설 내 한부모가 취업이나 학업 등으로 양육 공백을 겪는 경우 시설장의 요청에 따라 돌보미가 시설을 찾아 무상으로 아이들을 돌본다. 돌보미는 3명 이상의 아동을 한꺼번에 돌보게 된다. △난임부부 시술비 지원 대상 및 규모 확대=난임부부 시술비 지원 대상이 중위소득 130%에서 180%로 확대·적용된다. 기존에는 신선배아 체외수정 4회만 지원했으나 앞으로는 신선배아 체외수정 4회, 동결배아 체외수정 3회, 인공수정 3회 등 모두 10회로 지원횟수도 확대된다. 지원 제외 항목이었던 착상유도제, 유산방지제, 배아 동결 및 보관 비용도 지원 항목으로 포함됐다.최전방 근무 장병에 패딩형 점퍼 지급△최전방부대 장병 ‘패딩’ 지급=육군 전방사단 및 해군·해병대 서북도서 부대, 공군 방공관제대 등 격오지 부대에서 복무하는 장병 3만6500명에게 패딩형 운동복이 보급된다. 예산 20억4600만원이 투입된다. 기타 장병 복지 향상을 위해 봄가을 지급되는 춘추 운동복을 1인당 1벌씩에서 2벌씩으로 늘린다. 일제강점기 유래한 부정적 이미지를 해소하기 위해 ‘헌병’ 병과를 ‘군사경찰’로 개칭했다.교육급여 초등 20만원, 중·고 29만원△초·중·고교생 대상 교육급여 인상=내년부터 교육급여 대상자인 초등학생은 연간 20만3000원, 중·고등학생은 29만원의 학용품비와 부교재비를 지원받을 수 있다. 또 학용품비를 연 2회 분할 지급하던 것을 연 1회 일괄 지급한 것으로 바뀐다.△교과서 자유발행제 도입= 학교 수업의 자율성과 창의성을 높이기 위해 일부 과목에 인정도서의 심사 기준 및 절차를 간소화한 자유발행 형식의 인정도서가 4월 도입된다. 지금까지는 교과기준과 공통기준을 준수하고 심사기간도 9개월 걸렸지만, 자유발행도서는 공통기준 준수 여부만 확인하고 심사기간도 3∼4개월로 단축된다.귀농자금 부정수급자 최대 징역 10년△귀농자금 부정수급자 처벌 기준 신설=귀농·귀촌인에게 지급되는 지원금 지급 심사와 사후 검증이 강화된다. 정부는 귀농자금 사전대출 한도를 축소하고 지원대상자 심층 면접평가를 의무화한다. 처벌규정이 신설돼 지원금을 부정으로 수급하거나 부정수급을 유도하면 10년 이하의 징역 또는 2000만원 이하의 벌금형이 선고된다. 귀농·귀어·귀산촌 자금의 중복지원을 막기 위해 ‘귀농 창업자금 정보시스템’에 자금 지원내용 조회 기능을 새롭게 도입한다.△스마트팜·스마트 축사 확대=농업의 혁신동력으로 꼽히는 스마트팜 혁신밸리 2차 대상지가 선정된다. 지난 8월 1차 대상지로 선정된 경북 상주시와 전북 김제시에 이어 추가로 2곳에 스마트팜 혁신밸리를 조성한다. 첨단기술로 공동방역·분뇨처리가 가능한 스마트축산 시범단지 3곳을 만들고, 데이터 기반으로 농작업을 자동화한 밭농업형 모델을 5곳에서 10곳으로 확산한다. △밀 1만t 수매·밀쌀 군납 추진=밀 자급률 확대와 밀 산업 육성을 위해 정부가 35년 만에 밀 수매비축제를 새롭게 개편·도입한다. 1만t 수준의 밀을 수매해 과잉공급으로 가격이 폭락한 밀 가격을 끌어올린다. 군에 밀쌀을 납품하고 밀쌀 학교급식을 수도권 외 지역으로 확대해 국산 밀 수요를 늘려 밀 농가의 안정적인 소득 창출을 지원한다.미세먼지 비상저감조치 땐 車 운행 제한△비상저감조치 발령 시 5등급 차량 운행 제한=고농도 미세먼지 발생으로 비상저감조치가 발령되면 미세먼지를 많이 배출하는 5등급 차량은 운행이 제한된다. 서울, 인천, 경기 등 수도권 지역부터 배출가스 5등급 차량까지 운행규제를 확대해 나갈 계획이다. 5등급 차량은 주로 노후 경유차가 해당되며, 위반 시에는 10만원 이하의 과태료가 부과된다. △‘체크바캉스’ 혜택 8만명 확대=올해 처음 시행한 근로자 휴가지원 사업 대상이 내년에 8만명으로 확대된다. 올해는 2만명이 지원받았다. 근로자 휴가지원 사업은 근로자가 20만원을 부담하면 기업이 10만원, 정부가 10만원을 각각 지원해 휴가 때 총 40만원의 적립금을 전용 온라인몰을 통해 국내 여행에 사용하는 제도다.△문화누리카드 8만원으로 인상=소외계층에 발급되는 통합문화이용권인 문화누리카드의 개인별 지원금이 연간 7만원에서 내년부터 8만원으로 오른다. 수혜자는 166만명으로 올해보다 2만명 늘어난다.17개 시도 지방공무원 채용일정 ‘통일’△지방소비세, 부가가치세의 15%로 확대=본격적인 재정분권의 첫 시작으로 부가가치세의 11%에 머무르던 지방소비세가 15%로 확대된다. 2016년 결산기준으로 6조4000원이던 지방소비세가 내년에 9조7000억원으로 늘어난다. 2010년 도입된 지방소비세는 지방자치단체의 재정을 보조하기 위해 국세로 걷은 부가가치세 일부를 나눠 주는 세목이다. 정부는 2020년까지 지방소비세 세율을 21%까지 단계적으로 인상한다. △17개 시도 지방직 공무원 채용 일정 통일=서울시와 16개 시도의 7∼9급 공무원 공개경쟁 신규임용 필기시험이 같은 날에 치러진다. 올해까지는 16개 시도와 서울시의 지방공무원 신규임용 필기시험 일정이 달라 중복 접수·합격으로 인한 시험관리 낭비 문제 등이 꾸준히 발생했다. 9급 필기시험은 6월 15일, 7급 필기시험은 10월 12일에 실시된다.세종=안용성 기자, 편집국 종합 ysahn@segye.comⓒ 세상을 보는 눈, 글로벌 미디어 세계일보\n",
      "\n",
      "후견등기사항 부존재증명서 피해Summary 1 has been saved.\n"
     ]
    }
   ],
   "source": [
    "from summa.summarizer import summarize\n",
    "#주어진 경로에서 파일을 읽어서 리스트에 저장합니다.\n",
    "results1 = []\n",
    "titles_length = len(results)\n",
    "\n",
    "for i in range(titles_length):\n",
    "    file_path = f\"C:/Users/smhrd/Desktop/news/{search}{i}.txt\"\n",
    "    with open(file_path, \"r\", encoding=\"utf-8\") as f:\n",
    "        text = f.read()\n",
    "        results1.append(text)\n",
    "        print(text)\n",
    "#리스트에 저장된 각각의 파일에 대해서 요약을 생성하고 요약된 결과를 파일에 저장합니다.\n",
    "for i, content in enumerate(results1):\n",
    "    try:\n",
    "        summary = summarize(content, ratio=0.5) # 50%로 요약 생성\n",
    "        summary = summary[:300]  # 300 글자로 자르기\n",
    "        summary_file_path = f\"C:/Users/smhrd/Desktop/news/{search}{i}.txt\"\n",
    "        with open(summary_file_path, \"w\", encoding=\"utf-8\") as f:\n",
    "            f.write(summary)\n",
    "        print(f\"{search}Summary {i + 1} has been saved.\")\n",
    "    except Exception as e:\n",
    "        print(f\"Error summarizing text {i + 1}: {e}\")\n",
    "\n"
   ]
  },
  {
   "cell_type": "code",
   "execution_count": null,
   "metadata": {},
   "outputs": [],
   "source": []
  }
 ],
 "metadata": {
  "kernelspec": {
   "display_name": "p38_yolov5",
   "language": "python",
   "name": "python3"
  },
  "language_info": {
   "codemirror_mode": {
    "name": "ipython",
    "version": 3
   },
   "file_extension": ".py",
   "mimetype": "text/x-python",
   "name": "python",
   "nbconvert_exporter": "python",
   "pygments_lexer": "ipython3",
   "version": "3.8.0"
  },
  "orig_nbformat": 4,
  "vscode": {
   "interpreter": {
    "hash": "0bd6d10e7ee2a7e7217eeeeff9a6f888af60e77f05e3248a75c0c31110477623"
   }
  }
 },
 "nbformat": 4,
 "nbformat_minor": 2
}

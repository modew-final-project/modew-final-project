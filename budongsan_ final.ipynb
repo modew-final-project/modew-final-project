{
 "cells": [
  {
   "cell_type": "code",
   "execution_count": null,
   "id": "c75b2871",
   "metadata": {},
   "outputs": [],
   "source": [
    "!pip install -U pyupbit\n",
    "!pip install PublicDataReader\n",
    "!pip install quart\n",
    "! pip install Flask"
   ]
  },
  {
   "cell_type": "code",
   "execution_count": null,
   "id": "278dfd55",
   "metadata": {},
   "outputs": [],
   "source": [
    "Python 3.8.0 64-bit('env':venv)"
   ]
  },
  {
   "cell_type": "code",
   "execution_count": null,
   "id": "f686a80d",
   "metadata": {},
   "outputs": [],
   "source": [
    "test_duplicate_password()"
   ]
  },
  {
   "cell_type": "code",
   "execution_count": null,
   "id": "9182a24b",
   "metadata": {},
   "outputs": [],
   "source": [
    "# Flask의 비동기 모드를 활성화 필요 조건\n",
    "!pip install flask>=2.0\n",
    "\n",
    "\n",
    "#애플리케이션을 생성할 때, async_mode를 활성화합니다."
   ]
  },
  {
   "cell_type": "code",
   "execution_count": 41,
   "id": "22e3a833",
   "metadata": {},
   "outputs": [
    {
     "name": "stdout",
     "output_type": "stream",
     "text": [
      " * Serving Flask app '__main__'\n",
      " * Debug mode: off\n"
     ]
    },
    {
     "name": "stderr",
     "output_type": "stream",
     "text": [
      "WARNING: This is a development server. Do not use it in a production deployment. Use a production WSGI server instead.\n",
      " * Running on http://127.0.0.1:5000\n",
      "Press CTRL+C to quit\n",
      "127.0.0.1 - - [17/Apr/2023 11:36:20] \"GET / HTTP/1.1\" 200 -\n"
     ]
    },
    {
     "name": "stdout",
     "output_type": "stream",
     "text": [
      "출처: 행정기관(행정동) 및 관할구역(법정동) 변경내역(2023. 2. 24. 시행)\n",
      "URL: https://www.mois.go.kr/frt/bbs/type001/commonSelectBoardArticle.do?bbsId=BBSMSTR_000000000052&nttId=98870\n",
      "\n"
     ]
    },
    {
     "name": "stderr",
     "output_type": "stream",
     "text": [
      "127.0.0.1 - - [17/Apr/2023 11:36:30] \"POST /Create/ HTTP/1.1\" 200 -\n",
      "127.0.0.1 - - [17/Apr/2023 11:36:32] \"GET / HTTP/1.1\" 200 -\n",
      "127.0.0.1 - - [17/Apr/2023 11:36:48] \"GET / HTTP/1.1\" 200 -\n"
     ]
    },
    {
     "name": "stdout",
     "output_type": "stream",
     "text": [
      "출처: 행정기관(행정동) 및 관할구역(법정동) 변경내역(2023. 2. 24. 시행)\n",
      "URL: https://www.mois.go.kr/frt/bbs/type001/commonSelectBoardArticle.do?bbsId=BBSMSTR_000000000052&nttId=98870\n",
      "\n"
     ]
    },
    {
     "name": "stderr",
     "output_type": "stream",
     "text": [
      "127.0.0.1 - - [17/Apr/2023 11:36:56] \"POST /Create/ HTTP/1.1\" 200 -\n",
      "127.0.0.1 - - [17/Apr/2023 11:38:57] \"GET /CertificateThatDoesNotExist HTTP/1.1\" 404 -\n"
     ]
    }
   ],
   "source": [
    "from flask import Flask, render_template, request\n",
    "from PublicDataReader import TransactionPrice\n",
    "import PublicDataReader as pdr\n",
    "\n",
    "service_key = \"gheSnUnob3mSKc5nus5HfTB5tebwjYj14Y28AM9Fw%2F%2BcET6pE%2Bmsfo1BY7ot0KX5fsuR7RsLDWZYxzvZ7UVOcg%3D%3D\"\n",
    "\n",
    "app = Flask(__name__)\n",
    "\n",
    "@app.route(\"/\")\n",
    "def index():\n",
    "    return '''\n",
    "    <!DOCTYPE html>\n",
    "    <html>\n",
    "        <head>\n",
    "            <title>Input Text</title>\n",
    "        </head>\n",
    "        <body>\n",
    "            <h1>부동산 주소검색</h1>\n",
    "            <form action=\"/Create/\" method=\"POST\">\n",
    "                <p><input type=\"text\" name=\"Search\" placeholder=\"서울특별시 서초구 서초4동 1685\"></p>\n",
    "                <p><input type=\"submit\" value=\"Create\"></p>\n",
    "            </form>\n",
    "        </body>\n",
    "    </html>\n",
    "    '''\n",
    "\n",
    "@app.route(\"/Create/\", methods=['GET', 'POST'])\n",
    "def create():\n",
    "    if request.method == 'POST':\n",
    "        search = request.form['Search']\n",
    "        api = TransactionPrice(service_key)\n",
    "\n",
    "        address = search\n",
    "        split_address = address.split()\n",
    "\n",
    "        sigungu_name = split_address[1]\n",
    "        code = pdr.code_bdong()\n",
    "        filtered_code = code.loc[(code['시군구명'].str.contains(sigungu_name)) & (code['읍면동명'] == '')]\n",
    "\n",
    "        # 법정동 코드의 앞 다섯 글자만 가져옵니다.\n",
    "        law_dong_code = str(filtered_code['법정동코드'].values[0])[:5]\n",
    "\n",
    "        results = []\n",
    "\n",
    "        # 부동산종류\n",
    "        property_types = [\"아파트\", \"오피스텔\", \"단독다가구\", \"연립다세대\", \"토지\", \"분양입주권\", \"공장창고\"]\n",
    "        selected_columns = ['도로명', '법정동', '지번', '아파트', '건축년도', '층', '전용면적']\n",
    "\n",
    "        for property_type in property_types:\n",
    "            try:\n",
    "                df = api.get_data(\n",
    "                    property_type=property_type,\n",
    "                    trade_type=\"매매\",\n",
    "                    sigungu_code=law_dong_code,\n",
    "                    start_year_month=\"202201\",\n",
    "                    end_year_month=\"202212\",\n",
    "                )\n",
    "\n",
    "                if not df.empty:\n",
    "                    # 지번이 같은 데이터만 필터링합니다.\n",
    "                    filtered_df = df[df['지번'] == split_address[3]][selected_columns]\n",
    "                    \n",
    "                    if not filtered_df.empty:\n",
    "                        results.append(f\"{property_type} 데이터:\")\n",
    "                        for index, row in filtered_df.iterrows():\n",
    "                            row_data = \" | \".join(row.astype(str).tolist())\n",
    "                            results.append(f'<option>{row_data}</option>')\n",
    "                        results.append(\"<br>\")\n",
    "            except:\n",
    "                pass\n",
    "\n",
    "        results.append(\"<br>\")\n",
    "    else:\n",
    "        results = [\"검색 결과가 없습니다.\"]\n",
    "\n",
    "    result_string = \"\".join(results)\n",
    "\n",
    "    return '''\n",
    "    <!DOCTYPE html>\n",
    "    <html>\n",
    "        <head>\n",
    "            <title>Real Estate Search Results</title>\n",
    "        </head>\n",
    "        <body>\n",
    "            <h1>부동산 주소검색 결과</h1>\n",
    "            <div>\n",
    "                <select>\n",
    "                <option disabled>   도로명   | 법정동 |  지번  |   아파트   | 건축년도 | 층 | 전용면적</option>\n",
    "                {}\n",
    "                </select>\n",
    "            </div>\n",
    "            <a href=\"/\">다시 검색하려면 여기를 클릭하세요.</a>\n",
    "        </body>\n",
    "    </html>\n",
    "    '''.format(\"\".join(results))\n",
    "\n",
    "if __name__ == \"__main__\":\n",
    "    app.run(debug=False)\n",
    "\n",
    "\n"
   ]
  },
  {
   "cell_type": "code",
   "execution_count": null,
   "id": "e598ac3a",
   "metadata": {},
   "outputs": [],
   "source": []
  }
 ],
 "metadata": {
  "celltoolbar": "Edit Metadata",
  "kernelspec": {
   "display_name": "p38_yolov5",
   "language": "python",
   "name": "python3"
  },
  "language_info": {
   "codemirror_mode": {
    "name": "ipython",
    "version": 3
   },
   "file_extension": ".py",
   "mimetype": "text/x-python",
   "name": "python",
   "nbconvert_exporter": "python",
   "pygments_lexer": "ipython3",
   "version": "3.8.0"
  },
  "toc": {
   "base_numbering": 1,
   "nav_menu": {},
   "number_sections": true,
   "sideBar": true,
   "skip_h1_title": false,
   "title_cell": "Table of Contents",
   "title_sidebar": "Contents",
   "toc_cell": false,
   "toc_position": {},
   "toc_section_display": true,
   "toc_window_display": false
  },
  "vscode": {
   "interpreter": {
    "hash": "0bd6d10e7ee2a7e7217eeeeff9a6f888af60e77f05e3248a75c0c31110477623"
   }
  }
 },
 "nbformat": 4,
 "nbformat_minor": 5
}

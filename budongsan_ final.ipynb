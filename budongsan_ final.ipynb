{
 "cells": [
  {
   "cell_type": "code",
   "execution_count": 1,
   "id": "c75b2871",
   "metadata": {},
   "outputs": [
    {
     "name": "stdout",
     "output_type": "stream",
     "text": [
      "Collecting pyupbit\n",
      "  Downloading pyupbit-0.2.33-py3-none-any.whl (24 kB)\n",
      "Requirement already satisfied: requests in c:\\users\\smhrd\\anaconda3\\lib\\site-packages (from pyupbit) (2.28.1)\n",
      "Requirement already satisfied: websockets in c:\\users\\smhrd\\anaconda3\\lib\\site-packages (from pyupbit) (10.4)\n",
      "Requirement already satisfied: pandas in c:\\users\\smhrd\\anaconda3\\lib\\site-packages (from pyupbit) (1.4.4)\n",
      "Requirement already satisfied: pyjwt>=2.0.0 in c:\\users\\smhrd\\anaconda3\\lib\\site-packages (from pyupbit) (2.4.0)\n",
      "Requirement already satisfied: numpy>=1.18.5 in c:\\users\\smhrd\\anaconda3\\lib\\site-packages (from pandas->pyupbit) (1.21.5)\n",
      "Requirement already satisfied: pytz>=2020.1 in c:\\users\\smhrd\\anaconda3\\lib\\site-packages (from pandas->pyupbit) (2022.1)\n",
      "Requirement already satisfied: python-dateutil>=2.8.1 in c:\\users\\smhrd\\anaconda3\\lib\\site-packages (from pandas->pyupbit) (2.8.2)\n",
      "Requirement already satisfied: urllib3<1.27,>=1.21.1 in c:\\users\\smhrd\\anaconda3\\lib\\site-packages (from requests->pyupbit) (1.26.11)\n",
      "Requirement already satisfied: charset-normalizer<3,>=2 in c:\\users\\smhrd\\anaconda3\\lib\\site-packages (from requests->pyupbit) (2.0.4)\n",
      "Requirement already satisfied: certifi>=2017.4.17 in c:\\users\\smhrd\\anaconda3\\lib\\site-packages (from requests->pyupbit) (2022.9.14)\n",
      "Requirement already satisfied: idna<4,>=2.5 in c:\\users\\smhrd\\anaconda3\\lib\\site-packages (from requests->pyupbit) (3.3)\n",
      "Requirement already satisfied: six>=1.5 in c:\\users\\smhrd\\anaconda3\\lib\\site-packages (from python-dateutil>=2.8.1->pandas->pyupbit) (1.16.0)\n",
      "Installing collected packages: pyupbit\n",
      "Successfully installed pyupbit-0.2.33\n",
      "Collecting PublicDataReader\n",
      "  Downloading PublicDataReader-1.0.20-py3-none-any.whl (3.2 MB)\n",
      "     ---------------------------------------- 3.2/3.2 MB 10.8 MB/s eta 0:00:00\n",
      "Collecting xmltodict\n",
      "  Downloading xmltodict-0.13.0-py2.py3-none-any.whl (10.0 kB)\n",
      "Requirement already satisfied: pandas in c:\\users\\smhrd\\anaconda3\\lib\\site-packages (from PublicDataReader) (1.4.4)\n",
      "Requirement already satisfied: beautifulsoup4 in c:\\users\\smhrd\\anaconda3\\lib\\site-packages (from PublicDataReader) (4.11.1)\n",
      "Requirement already satisfied: lxml in c:\\users\\smhrd\\anaconda3\\lib\\site-packages (from PublicDataReader) (4.9.1)\n",
      "Requirement already satisfied: requests in c:\\users\\smhrd\\anaconda3\\lib\\site-packages (from PublicDataReader) (2.28.1)\n",
      "Requirement already satisfied: numpy in c:\\users\\smhrd\\anaconda3\\lib\\site-packages (from PublicDataReader) (1.21.5)\n",
      "Requirement already satisfied: soupsieve>1.2 in c:\\users\\smhrd\\anaconda3\\lib\\site-packages (from beautifulsoup4->PublicDataReader) (2.3.1)\n",
      "Requirement already satisfied: python-dateutil>=2.8.1 in c:\\users\\smhrd\\anaconda3\\lib\\site-packages (from pandas->PublicDataReader) (2.8.2)\n",
      "Requirement already satisfied: pytz>=2020.1 in c:\\users\\smhrd\\anaconda3\\lib\\site-packages (from pandas->PublicDataReader) (2022.1)\n",
      "Requirement already satisfied: urllib3<1.27,>=1.21.1 in c:\\users\\smhrd\\anaconda3\\lib\\site-packages (from requests->PublicDataReader) (1.26.11)\n",
      "Requirement already satisfied: certifi>=2017.4.17 in c:\\users\\smhrd\\anaconda3\\lib\\site-packages (from requests->PublicDataReader) (2022.9.14)\n",
      "Requirement already satisfied: charset-normalizer<3,>=2 in c:\\users\\smhrd\\anaconda3\\lib\\site-packages (from requests->PublicDataReader) (2.0.4)\n",
      "Requirement already satisfied: idna<4,>=2.5 in c:\\users\\smhrd\\anaconda3\\lib\\site-packages (from requests->PublicDataReader) (3.3)\n",
      "Requirement already satisfied: six>=1.5 in c:\\users\\smhrd\\anaconda3\\lib\\site-packages (from python-dateutil>=2.8.1->pandas->PublicDataReader) (1.16.0)\n",
      "Installing collected packages: xmltodict, PublicDataReader\n",
      "Successfully installed PublicDataReader-1.0.20 xmltodict-0.13.0\n",
      "Collecting quart\n",
      "  Downloading quart-0.18.4-py3-none-any.whl (100 kB)\n",
      "     -------------------------------------- 100.2/100.2 kB 5.6 MB/s eta 0:00:00\n",
      "Collecting aiofiles\n",
      "  Downloading aiofiles-23.1.0-py3-none-any.whl (14 kB)\n",
      "Requirement already satisfied: itsdangerous in c:\\users\\smhrd\\anaconda3\\lib\\site-packages (from quart) (2.0.1)\n",
      "Collecting hypercorn>=0.11.2\n",
      "  Downloading Hypercorn-0.14.3-py3-none-any.whl (57 kB)\n",
      "     ---------------------------------------- 57.9/57.9 kB ? eta 0:00:00\n",
      "Requirement already satisfied: click>=8.0.0 in c:\\users\\smhrd\\anaconda3\\lib\\site-packages (from quart) (8.0.4)\n",
      "Requirement already satisfied: markupsafe in c:\\users\\smhrd\\anaconda3\\lib\\site-packages (from quart) (2.0.1)\n",
      "Collecting blinker<1.6\n",
      "  Downloading blinker-1.5-py2.py3-none-any.whl (12 kB)\n",
      "Requirement already satisfied: jinja2 in c:\\users\\smhrd\\anaconda3\\lib\\site-packages (from quart) (2.11.3)\n",
      "Collecting werkzeug>=2.2.0\n",
      "  Downloading Werkzeug-2.2.3-py3-none-any.whl (233 kB)\n",
      "     ------------------------------------- 233.6/233.6 kB 14.0 MB/s eta 0:00:00\n",
      "Requirement already satisfied: importlib_metadata in c:\\users\\smhrd\\anaconda3\\lib\\site-packages (from quart) (4.11.3)\n",
      "Requirement already satisfied: colorama in c:\\users\\smhrd\\anaconda3\\lib\\site-packages (from click>=8.0.0->quart) (0.4.5)\n",
      "Requirement already satisfied: wsproto>=0.14.0 in c:\\users\\smhrd\\anaconda3\\lib\\site-packages (from hypercorn>=0.11.2->quart) (1.2.0)\n",
      "Collecting h2>=3.1.0\n",
      "  Downloading h2-4.1.0-py3-none-any.whl (57 kB)\n",
      "     ---------------------------------------- 57.5/57.5 kB ? eta 0:00:00\n",
      "Requirement already satisfied: toml in c:\\users\\smhrd\\anaconda3\\lib\\site-packages (from hypercorn>=0.11.2->quart) (0.10.2)\n",
      "Collecting priority\n",
      "  Downloading priority-2.0.0-py3-none-any.whl (8.9 kB)\n",
      "Requirement already satisfied: h11 in c:\\users\\smhrd\\anaconda3\\lib\\site-packages (from hypercorn>=0.11.2->quart) (0.14.0)\n",
      "Collecting markupsafe\n",
      "  Downloading MarkupSafe-2.1.2-cp39-cp39-win_amd64.whl (16 kB)\n",
      "Requirement already satisfied: zipp>=0.5 in c:\\users\\smhrd\\anaconda3\\lib\\site-packages (from importlib_metadata->quart) (3.8.0)\n",
      "Collecting hpack<5,>=4.0\n",
      "  Downloading hpack-4.0.0-py3-none-any.whl (32 kB)\n",
      "Collecting hyperframe<7,>=6.0\n",
      "  Downloading hyperframe-6.0.1-py3-none-any.whl (12 kB)\n",
      "Installing collected packages: priority, markupsafe, hyperframe, hpack, blinker, aiofiles, werkzeug, h2, hypercorn, quart\n",
      "  Attempting uninstall: markupsafe\n",
      "    Found existing installation: MarkupSafe 2.0.1\n",
      "    Uninstalling MarkupSafe-2.0.1:\n",
      "      Successfully uninstalled MarkupSafe-2.0.1\n",
      "  Attempting uninstall: werkzeug\n",
      "    Found existing installation: Werkzeug 2.0.3\n",
      "    Uninstalling Werkzeug-2.0.3:\n",
      "      Successfully uninstalled Werkzeug-2.0.3\n",
      "Successfully installed aiofiles-23.1.0 blinker-1.5 h2-4.1.0 hpack-4.0.0 hypercorn-0.14.3 hyperframe-6.0.1 markupsafe-2.1.2 priority-2.0.0 quart-0.18.4 werkzeug-2.2.3\n",
      "Requirement already satisfied: Flask in c:\\users\\smhrd\\anaconda3\\lib\\site-packages (1.1.2)\n",
      "Requirement already satisfied: Werkzeug>=0.15 in c:\\users\\smhrd\\anaconda3\\lib\\site-packages (from Flask) (2.2.3)\n",
      "Requirement already satisfied: click>=5.1 in c:\\users\\smhrd\\anaconda3\\lib\\site-packages (from Flask) (8.0.4)\n",
      "Requirement already satisfied: Jinja2>=2.10.1 in c:\\users\\smhrd\\anaconda3\\lib\\site-packages (from Flask) (2.11.3)\n",
      "Requirement already satisfied: itsdangerous>=0.24 in c:\\users\\smhrd\\anaconda3\\lib\\site-packages (from Flask) (2.0.1)\n",
      "Requirement already satisfied: colorama in c:\\users\\smhrd\\anaconda3\\lib\\site-packages (from click>=5.1->Flask) (0.4.5)\n",
      "Requirement already satisfied: MarkupSafe>=0.23 in c:\\users\\smhrd\\anaconda3\\lib\\site-packages (from Jinja2>=2.10.1->Flask) (2.1.2)\n"
     ]
    }
   ],
   "source": [
    "!pip install -U pyupbit\n",
    "!pip install PublicDataReader\n",
    "!pip install quart\n",
    "! pip install Flask"
   ]
  },
  {
   "cell_type": "code",
   "execution_count": 2,
   "id": "278dfd55",
   "metadata": {},
   "outputs": [
    {
     "ename": "SyntaxError",
     "evalue": "invalid syntax (1971025180.py, line 1)",
     "output_type": "error",
     "traceback": [
      "\u001b[1;36m  File \u001b[1;32m\"C:\\Users\\smhrd\\AppData\\Local\\Temp\\ipykernel_211444\\1971025180.py\"\u001b[1;36m, line \u001b[1;32m1\u001b[0m\n\u001b[1;33m    Python 3.8.0 64-bit('env':venv)\u001b[0m\n\u001b[1;37m           ^\u001b[0m\n\u001b[1;31mSyntaxError\u001b[0m\u001b[1;31m:\u001b[0m invalid syntax\n"
     ]
    }
   ],
   "source": [
    "Python 3.8.0 64-bit('env':venv)"
   ]
  },
  {
   "cell_type": "code",
   "execution_count": null,
   "id": "f686a80d",
   "metadata": {},
   "outputs": [],
   "source": [
    "test_duplicate_password()"
   ]
  },
  {
   "cell_type": "code",
   "execution_count": null,
   "id": "9182a24b",
   "metadata": {},
   "outputs": [],
   "source": [
    "# Flask의 비동기 모드를 활성화 필요 조건\n",
    "!pip install flask>=2.0\n",
    "\n",
    "\n",
    "#애플리케이션을 생성할 때, async_mode를 활성화합니다."
   ]
  },
  {
   "cell_type": "code",
   "execution_count": null,
   "id": "22e3a833",
   "metadata": {},
   "outputs": [
    {
     "name": "stdout",
     "output_type": "stream",
     "text": [
      " * Serving Flask app '__main__'\n",
      " * Debug mode: off\n"
     ]
    },
    {
     "name": "stderr",
     "output_type": "stream",
     "text": [
      "WARNING: This is a development server. Do not use it in a production deployment. Use a production WSGI server instead.\n",
      " * Running on http://127.0.0.1:5000\n",
      "Press CTRL+C to quit\n",
      "127.0.0.1 - - [17/Apr/2023 16:27:42] \"GET / HTTP/1.1\" 200 -\n"
     ]
    },
    {
     "name": "stdout",
     "output_type": "stream",
     "text": [
      "출처: 행정기관(행정동) 및 관할구역(법정동) 변경내역(2023. 2. 24. 시행)\n",
      "URL: https://www.mois.go.kr/frt/bbs/type001/commonSelectBoardArticle.do?bbsId=BBSMSTR_000000000052&nttId=98870\n",
      "\n"
     ]
    },
    {
     "name": "stderr",
     "output_type": "stream",
     "text": [
      "127.0.0.1 - - [17/Apr/2023 16:27:46] \"GET / HTTP/1.1\" 200 -\n",
      "127.0.0.1 - - [17/Apr/2023 16:27:47] \"POST /Create/ HTTP/1.1\" 200 -\n",
      "127.0.0.1 - - [17/Apr/2023 16:27:52] \"POST /selected_data/ HTTP/1.1\" 400 -\n",
      "127.0.0.1 - - [17/Apr/2023 16:28:06] \"GET / HTTP/1.1\" 200 -\n",
      "127.0.0.1 - - [17/Apr/2023 16:28:09] \"GET / HTTP/1.1\" 200 -\n"
     ]
    },
    {
     "name": "stdout",
     "output_type": "stream",
     "text": [
      "출처: 행정기관(행정동) 및 관할구역(법정동) 변경내역(2023. 2. 24. 시행)\n",
      "URL: https://www.mois.go.kr/frt/bbs/type001/commonSelectBoardArticle.do?bbsId=BBSMSTR_000000000052&nttId=98870\n",
      "\n"
     ]
    },
    {
     "name": "stderr",
     "output_type": "stream",
     "text": [
      "127.0.0.1 - - [17/Apr/2023 16:28:15] \"POST /Create/ HTTP/1.1\" 200 -\n",
      "127.0.0.1 - - [17/Apr/2023 16:28:31] \"POST /selected_data/ HTTP/1.1\" 400 -\n",
      "127.0.0.1 - - [17/Apr/2023 16:29:33] \"GET / HTTP/1.1\" 200 -\n"
     ]
    },
    {
     "name": "stdout",
     "output_type": "stream",
     "text": [
      "출처: 행정기관(행정동) 및 관할구역(법정동) 변경내역(2023. 2. 24. 시행)\n",
      "URL: https://www.mois.go.kr/frt/bbs/type001/commonSelectBoardArticle.do?bbsId=BBSMSTR_000000000052&nttId=98870\n",
      "\n"
     ]
    },
    {
     "name": "stderr",
     "output_type": "stream",
     "text": [
      "127.0.0.1 - - [17/Apr/2023 16:29:38] \"POST /Create/ HTTP/1.1\" 200 -\n",
      "127.0.0.1 - - [17/Apr/2023 16:29:41] \"POST /selected_data/ HTTP/1.1\" 400 -\n"
     ]
    }
   ],
   "source": [
    "from flask import Flask, render_template, request, redirect\n",
    "from PublicDataReader import TransactionPrice\n",
    "import PublicDataReader as pdr\n",
    "\n",
    "service_key = \"gheSnUnob3mSKc5nus5HfTB5tebwjYj14Y28AM9Fw%2F%2BcET6pE%2Bmsfo1BY7ot0KX5fsuR7RsLDWZYxzvZ7UVOcg%3D%3D\"\n",
    "\n",
    "app = Flask(__name__)\n",
    "\n",
    "@app.route(\"/\")\n",
    "def index():\n",
    "    return '''\n",
    "    <!DOCTYPE html>\n",
    "    <html>\n",
    "        <head>\n",
    "            <title>Input Text</title>\n",
    "        </head>\n",
    "        <body>\n",
    "            <h1>부동산 주소검색</h1>\n",
    "            <form action=\"/Create/\" method=\"POST\">\n",
    "                <p><input type=\"text\" name=\"Search\" placeholder=\"서울특별시 서초구 서초4동 1685\"></p>\n",
    "                로딩하는 동안 시간이 걸릴수 있으니 다음 작업을 진행해주세요\n",
    "                <p><input type=\"submit\" value=\"Create\"></p>\n",
    "            </form>\n",
    "        </body>\n",
    "    </html>\n",
    "    '''\n",
    "\n",
    "@app.route(\"/Create/\", methods=['GET', 'POST'])\n",
    "def create():\n",
    "    if request.method == 'POST':\n",
    "        search = request.form['Search']\n",
    "        api = TransactionPrice(service_key)\n",
    "\n",
    "        address = search\n",
    "        split_address = address.split()\n",
    "\n",
    "        sigungu_name = split_address[1]\n",
    "        code = pdr.code_bdong()\n",
    "        filtered_code = code.loc[(code['시군구명'].str.contains(sigungu_name)) & (code['읍면동명'] == '')]\n",
    "\n",
    "        # 법정동 코드의 앞 다섯 글자만 가져옵니다.\n",
    "        law_dong_code = str(filtered_code['법정동코드'].values[0])[:5]\n",
    "\n",
    "        results = []\n",
    "\n",
    "        # 부동산종류\n",
    "        property_types = [\"아파트\", \"오피스텔\", \"단독다가구\", \"연립다세대\", \"토지\", \"분양입주권\", \"공장창고\"]\n",
    "        selected_columns = ['도로명', '법정동', '지번', '아파트', '건축년도', '층', '전용면적']\n",
    "\n",
    "        for property_type in property_types:\n",
    "            try:\n",
    "                df = api.get_data(\n",
    "                    property_type=property_type,\n",
    "                    trade_type=\"매매\",\n",
    "                    sigungu_code=law_dong_code,\n",
    "                    start_year_month=\"202201\",\n",
    "                    end_year_month=\"202212\",\n",
    "                )\n",
    "\n",
    "                if not df.empty:\n",
    "                    # 지번이 같은 데이터만 필터링합니다.\n",
    "                    filtered_df = df[df['지번'] == split_address[3]][selected_columns]\n",
    "                    \n",
    "                    if not filtered_df.empty:\n",
    "                        results.append(f\"{property_type} 데이터:\")\n",
    "                        for index, row in filtered_df.iterrows():\n",
    "                            row_data = \" | \".join(row.astype(str).tolist())\n",
    "                            results.append(f'<option>{row_data}</option>')\n",
    "                        results.append(\"<br>\")\n",
    "            except:\n",
    "                pass\n",
    "\n",
    "        results.append(\"<br>\")\n",
    "    else:\n",
    "        results = [\"검색 결과가 없습니다.\"]\n",
    "\n",
    "    result_string = \"\".join(results)\n",
    "\n",
    "    return '''\n",
    "    <!DOCTYPE html>\n",
    "    <html>\n",
    "        <head>\n",
    "            <title>Real Estate Search Results</title>\n",
    "        </head>\n",
    "        <body>\n",
    "        <form action=\"/selected_data/\" method=\"POST\">\n",
    "            <h1>부동산 주소검색 결과</h1>\n",
    "            <div>\n",
    "                <select>\n",
    "                <option disabled>   도로명   | 법정동 |  지번  |   아파트   | 건축년도 | 층 | 전용면적</option>\n",
    "                {}\n",
    "                </select>\n",
    "            </div>\n",
    "            <p><input type=\"submit\" value=\"Submit\"></p>\n",
    "            </form>\n",
    "            <a href=\"/\">다시 검색하려면 여기를 클릭하세요.</a>\n",
    "        </body>\n",
    "    </html>\n",
    "    '''.format(\"\".join(results))\n",
    "\n",
    "@app.route(\"/selected_data/\", methods=[\"POST\"])\n",
    "def selected_data():\n",
    "    global selected_result\n",
    "    if request.method == \"POST\":\n",
    "        selected_result = request.form[\"selected_result\"]\n",
    "        return redirect(\"/get_selected_data/\")\n",
    "    return \"Method not allowed\", 405\n",
    "\n",
    "@app.route(\"/get_selected_data/\")\n",
    "def get_selected_data():\n",
    "    global selected_result\n",
    "    return selected_result\n",
    "\n",
    "\n",
    "if __name__ == \"__main__\":\n",
    "    app.run(debug=False)\n",
    "\n"
   ]
  },
  {
   "cell_type": "code",
   "execution_count": null,
   "id": "e598ac3a",
   "metadata": {},
   "outputs": [],
   "source": []
  }
 ],
 "metadata": {
  "celltoolbar": "Edit Metadata",
  "kernelspec": {
   "display_name": "p38_yolov5",
   "language": "python",
   "name": "python3"
  },
  "language_info": {
   "codemirror_mode": {
    "name": "ipython",
    "version": 3
   },
   "file_extension": ".py",
   "mimetype": "text/x-python",
   "name": "python",
   "nbconvert_exporter": "python",
   "pygments_lexer": "ipython3",
   "version": "3.9.13"
  },
  "toc": {
   "base_numbering": 1,
   "nav_menu": {},
   "number_sections": true,
   "sideBar": true,
   "skip_h1_title": false,
   "title_cell": "Table of Contents",
   "title_sidebar": "Contents",
   "toc_cell": false,
   "toc_position": {},
   "toc_section_display": true,
   "toc_window_display": false
  },
  "vscode": {
   "interpreter": {
    "hash": "0bd6d10e7ee2a7e7217eeeeff9a6f888af60e77f05e3248a75c0c31110477623"
   }
  }
 },
 "nbformat": 4,
 "nbformat_minor": 5
}

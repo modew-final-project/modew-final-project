{
 "cells": [
  {
   "cell_type": "code",
   "execution_count": 18,
   "id": "c75b2871",
   "metadata": {},
   "outputs": [
    {
     "name": "stdout",
     "output_type": "stream",
     "text": [
      "Requirement already satisfied: PublicDataReader in c:\\users\\smhrd\\appdata\\local\\packages\\pythonsoftwarefoundation.python.3.10_qbz5n2kfra8p0\\localcache\\local-packages\\python310\\site-packages (1.0.20)\n",
      "Requirement already satisfied: requests in c:\\users\\smhrd\\appdata\\local\\packages\\pythonsoftwarefoundation.python.3.10_qbz5n2kfra8p0\\localcache\\local-packages\\python310\\site-packages (from PublicDataReader) (2.28.2)\n",
      "Requirement already satisfied: lxml in c:\\users\\smhrd\\appdata\\local\\packages\\pythonsoftwarefoundation.python.3.10_qbz5n2kfra8p0\\localcache\\local-packages\\python310\\site-packages (from PublicDataReader) (4.9.2)\n",
      "Requirement already satisfied: numpy in c:\\users\\smhrd\\appdata\\local\\packages\\pythonsoftwarefoundation.python.3.10_qbz5n2kfra8p0\\localcache\\local-packages\\python310\\site-packages (from PublicDataReader) (1.24.2)\n",
      "Requirement already satisfied: beautifulsoup4 in c:\\users\\smhrd\\appdata\\local\\packages\\pythonsoftwarefoundation.python.3.10_qbz5n2kfra8p0\\localcache\\local-packages\\python310\\site-packages (from PublicDataReader) (4.12.0)\n",
      "Requirement already satisfied: xmltodict in c:\\users\\smhrd\\appdata\\local\\packages\\pythonsoftwarefoundation.python.3.10_qbz5n2kfra8p0\\localcache\\local-packages\\python310\\site-packages (from PublicDataReader) (0.13.0)\n",
      "Requirement already satisfied: pandas in c:\\users\\smhrd\\appdata\\local\\packages\\pythonsoftwarefoundation.python.3.10_qbz5n2kfra8p0\\localcache\\local-packages\\python310\\site-packages (from PublicDataReader) (2.0.0)\n",
      "Requirement already satisfied: soupsieve>1.2 in c:\\users\\smhrd\\appdata\\local\\packages\\pythonsoftwarefoundation.python.3.10_qbz5n2kfra8p0\\localcache\\local-packages\\python310\\site-packages (from beautifulsoup4->PublicDataReader) (2.4)\n",
      "Requirement already satisfied: pytz>=2020.1 in c:\\users\\smhrd\\appdata\\local\\packages\\pythonsoftwarefoundation.python.3.10_qbz5n2kfra8p0\\localcache\\local-packages\\python310\\site-packages (from pandas->PublicDataReader) (2023.3)\n",
      "Requirement already satisfied: python-dateutil>=2.8.2 in c:\\users\\smhrd\\appdata\\local\\packages\\pythonsoftwarefoundation.python.3.10_qbz5n2kfra8p0\\localcache\\local-packages\\python310\\site-packages (from pandas->PublicDataReader) (2.8.2)\n",
      "Requirement already satisfied: tzdata>=2022.1 in c:\\users\\smhrd\\appdata\\local\\packages\\pythonsoftwarefoundation.python.3.10_qbz5n2kfra8p0\\localcache\\local-packages\\python310\\site-packages (from pandas->PublicDataReader) (2023.3)\n",
      "Requirement already satisfied: urllib3<1.27,>=1.21.1 in c:\\users\\smhrd\\appdata\\local\\packages\\pythonsoftwarefoundation.python.3.10_qbz5n2kfra8p0\\localcache\\local-packages\\python310\\site-packages (from requests->PublicDataReader) (1.26.15)\n",
      "Requirement already satisfied: certifi>=2017.4.17 in c:\\users\\smhrd\\appdata\\local\\packages\\pythonsoftwarefoundation.python.3.10_qbz5n2kfra8p0\\localcache\\local-packages\\python310\\site-packages (from requests->PublicDataReader) (2022.12.7)\n",
      "Requirement already satisfied: idna<4,>=2.5 in c:\\users\\smhrd\\appdata\\local\\packages\\pythonsoftwarefoundation.python.3.10_qbz5n2kfra8p0\\localcache\\local-packages\\python310\\site-packages (from requests->PublicDataReader) (3.4)\n",
      "Requirement already satisfied: charset-normalizer<4,>=2 in c:\\users\\smhrd\\appdata\\local\\packages\\pythonsoftwarefoundation.python.3.10_qbz5n2kfra8p0\\localcache\\local-packages\\python310\\site-packages (from requests->PublicDataReader) (3.1.0)\n",
      "Requirement already satisfied: six>=1.5 in c:\\users\\smhrd\\appdata\\local\\packages\\pythonsoftwarefoundation.python.3.10_qbz5n2kfra8p0\\localcache\\local-packages\\python310\\site-packages (from python-dateutil>=2.8.2->pandas->PublicDataReader) (1.16.0)\n",
      "Requirement already satisfied: quart in c:\\users\\smhrd\\appdata\\local\\packages\\pythonsoftwarefoundation.python.3.10_qbz5n2kfra8p0\\localcache\\local-packages\\python310\\site-packages (0.18.3)\n",
      "Requirement already satisfied: click>=8.0.0 in c:\\users\\smhrd\\appdata\\local\\packages\\pythonsoftwarefoundation.python.3.10_qbz5n2kfra8p0\\localcache\\local-packages\\python310\\site-packages (from quart) (8.1.3)\n",
      "Requirement already satisfied: blinker in c:\\users\\smhrd\\appdata\\local\\packages\\pythonsoftwarefoundation.python.3.10_qbz5n2kfra8p0\\localcache\\local-packages\\python310\\site-packages (from quart) (1.6)\n",
      "Requirement already satisfied: jinja2 in c:\\users\\smhrd\\appdata\\local\\packages\\pythonsoftwarefoundation.python.3.10_qbz5n2kfra8p0\\localcache\\local-packages\\python310\\site-packages (from quart) (3.1.2)\n",
      "Requirement already satisfied: aiofiles in c:\\users\\smhrd\\appdata\\local\\packages\\pythonsoftwarefoundation.python.3.10_qbz5n2kfra8p0\\localcache\\local-packages\\python310\\site-packages (from quart) (23.1.0)\n",
      "Requirement already satisfied: markupsafe in c:\\users\\smhrd\\appdata\\local\\packages\\pythonsoftwarefoundation.python.3.10_qbz5n2kfra8p0\\localcache\\local-packages\\python310\\site-packages (from quart) (2.1.2)\n",
      "Requirement already satisfied: itsdangerous in c:\\users\\smhrd\\appdata\\local\\packages\\pythonsoftwarefoundation.python.3.10_qbz5n2kfra8p0\\localcache\\local-packages\\python310\\site-packages (from quart) (2.1.2)\n",
      "Requirement already satisfied: hypercorn>=0.11.2 in c:\\users\\smhrd\\appdata\\local\\packages\\pythonsoftwarefoundation.python.3.10_qbz5n2kfra8p0\\localcache\\local-packages\\python310\\site-packages (from quart) (0.14.3)\n",
      "Requirement already satisfied: werkzeug>=2.2.0 in c:\\users\\smhrd\\appdata\\local\\packages\\pythonsoftwarefoundation.python.3.10_qbz5n2kfra8p0\\localcache\\local-packages\\python310\\site-packages (from quart) (2.2.3)\n",
      "Requirement already satisfied: colorama in c:\\users\\smhrd\\appdata\\local\\packages\\pythonsoftwarefoundation.python.3.10_qbz5n2kfra8p0\\localcache\\local-packages\\python310\\site-packages (from click>=8.0.0->quart) (0.4.6)\n",
      "Requirement already satisfied: wsproto>=0.14.0 in c:\\users\\smhrd\\appdata\\local\\packages\\pythonsoftwarefoundation.python.3.10_qbz5n2kfra8p0\\localcache\\local-packages\\python310\\site-packages (from hypercorn>=0.11.2->quart) (1.2.0)\n",
      "Requirement already satisfied: h2>=3.1.0 in c:\\users\\smhrd\\appdata\\local\\packages\\pythonsoftwarefoundation.python.3.10_qbz5n2kfra8p0\\localcache\\local-packages\\python310\\site-packages (from hypercorn>=0.11.2->quart) (4.1.0)\n",
      "Requirement already satisfied: h11 in c:\\users\\smhrd\\appdata\\local\\packages\\pythonsoftwarefoundation.python.3.10_qbz5n2kfra8p0\\localcache\\local-packages\\python310\\site-packages (from hypercorn>=0.11.2->quart) (0.14.0)\n",
      "Requirement already satisfied: toml in c:\\users\\smhrd\\appdata\\local\\packages\\pythonsoftwarefoundation.python.3.10_qbz5n2kfra8p0\\localcache\\local-packages\\python310\\site-packages (from hypercorn>=0.11.2->quart) (0.10.2)\n",
      "Requirement already satisfied: priority in c:\\users\\smhrd\\appdata\\local\\packages\\pythonsoftwarefoundation.python.3.10_qbz5n2kfra8p0\\localcache\\local-packages\\python310\\site-packages (from hypercorn>=0.11.2->quart) (2.0.0)\n",
      "Requirement already satisfied: typing-extensions in c:\\users\\smhrd\\appdata\\local\\packages\\pythonsoftwarefoundation.python.3.10_qbz5n2kfra8p0\\localcache\\local-packages\\python310\\site-packages (from blinker->quart) (4.5.0)\n",
      "Requirement already satisfied: hpack<5,>=4.0 in c:\\users\\smhrd\\appdata\\local\\packages\\pythonsoftwarefoundation.python.3.10_qbz5n2kfra8p0\\localcache\\local-packages\\python310\\site-packages (from h2>=3.1.0->hypercorn>=0.11.2->quart) (4.0.0)\n",
      "Requirement already satisfied: hyperframe<7,>=6.0 in c:\\users\\smhrd\\appdata\\local\\packages\\pythonsoftwarefoundation.python.3.10_qbz5n2kfra8p0\\localcache\\local-packages\\python310\\site-packages (from h2>=3.1.0->hypercorn>=0.11.2->quart) (6.0.1)\n"
     ]
    }
   ],
   "source": [
    "!pip install -U pyupbit\n",
    "!pip install PublicDataReader\n",
    "!pip install quart\n",
    "! pip install Flask"
   ]
  },
  {
   "cell_type": "code",
   "execution_count": null,
   "id": "278dfd55",
   "metadata": {},
   "outputs": [],
   "source": [
    "Python 3.8.2 64-bit('env':venv)"
   ]
  },
  {
   "cell_type": "code",
   "execution_count": null,
   "id": "f686a80d",
   "metadata": {},
   "outputs": [],
   "source": [
    "test_duplicate_password()"
   ]
  },
  {
   "cell_type": "code",
   "execution_count": null,
   "id": "9182a24b",
   "metadata": {},
   "outputs": [],
   "source": [
    "# Flask의 비동기 모드를 활성화 필요 조건\n",
    "!pip install flask>=2.0\n",
    "\n",
    "#애플리케이션을 생성할 때, async_mode를 활성화합니다."
   ]
  },
  {
   "cell_type": "code",
   "execution_count": 2,
   "id": "4b1c5089",
   "metadata": {},
   "outputs": [
    {
     "name": "stdout",
     "output_type": "stream",
     "text": [
      " * Serving Flask app '__main__'\n",
      " * Debug mode: off\n"
     ]
    },
    {
     "name": "stderr",
     "output_type": "stream",
     "text": [
      "WARNING: This is a development server. Do not use it in a production deployment. Use a production WSGI server instead.\n",
      " * Running on http://127.0.0.1:5000\n",
      "Press CTRL+C to quit\n",
      "127.0.0.1 - - [07/Apr/2023 15:14:54] \"GET / HTTP/1.1\" 200 -\n"
     ]
    }
   ],
   "source": [
    "from flask import Flask, render_template, request\n",
    "from PublicDataReader import TransactionPrice\n",
    "import PublicDataReader as pdr\n",
    "\n",
    "service_key = \"gheSnUnob3mSKc5nus5HfTB5tebwjYj14Y28AM9Fw%2F%2BcET6pE%2Bmsfo1BY7ot0KX5fsuR7RsLDWZYxzvZ7UVOcg%3D%3D\"\n",
    "\n",
    "app = Flask(__name__)\n",
    "\n",
    "@app.route(\"/\", methods=['GET', 'POST'])\n",
    "def index():\n",
    "    if request.method == 'POST':\n",
    "        search = request.form['Search']\n",
    "        api = TransactionPrice(service_key)\n",
    "\n",
    "        address = search\n",
    "        split_address = address.split()\n",
    "\n",
    "        sigungu_name = split_address[1]\n",
    "        code = pdr.code_bdong()\n",
    "        filtered_code = code.loc[(code['시군구명'].str.contains(sigungu_name)) & (code['읍면동명'] == '')]\n",
    "\n",
    "        # 법정동 코드의 앞 다섯 글자만 가져옵니다.\n",
    "        law_dong_code = str(filtered_code['법정동코드'].values[0])[:5]\n",
    "\n",
    "        results = {}\n",
    "\n",
    "        # 부동산종류\n",
    "        property_types = [\"아파트\", \"오피스텔\", \"단독다가구\", \"연립다세대\", \"토지\", \"분양입주권\", \"공장창고\"]\n",
    "        selected_columns = ['도로명', '법정동', '지번', '아파트', '건축년도', '층', '전용면적']\n",
    "\n",
    "        for property_type in property_types:\n",
    "            try:\n",
    "                df = api.get_data(\n",
    "                    property_type=property_type,\n",
    "                    trade_type=\"매매\",\n",
    "                    sigungu_code=law_dong_code,\n",
    "                    start_year_month=\"202201\",\n",
    "                    end_year_month=\"202212\",\n",
    "                )\n",
    "\n",
    "                if not df.empty:\n",
    "                    # 지번이 같은 데이터만 필터링합니다.\n",
    "                    filtered_df = df[df['지번'] == split_address[3]][selected_columns]\n",
    "\n",
    "                    if not filtered_df.empty:\n",
    "                        results[property_type] = filtered_df.to_dict('records')\n",
    "            except:\n",
    "                pass\n",
    "\n",
    "        if not results:\n",
    "            result_string = \"검색 결과가 없습니다.\"\n",
    "        else:\n",
    "            select_options = \"\"\n",
    "            for property_type, records in results.items():\n",
    "                select_options += f\"<optgroup label='{property_type}'>\"\n",
    "                for record in records:\n",
    "                    select_options += f\"<option>{record['도로명']} {record['법정동']} {record['지번']} ({record['건축년도']}년, {record['층']}층, {record['전용면적']}㎡)</option>\"\n",
    "                select_options += \"</optgroup>\"\n",
    "            result_string = f\"<select>{select_options}</select>\"\n",
    "\n",
    "    else:\n",
    "        result_string = \"\"\n",
    "#아래코드에서 검색버튼 누를시 검색중 다른작업을 우선으로 진행해주세요 만들어줘\n",
    "    return '''\n",
    "    <!DOCTYPE html>\n",
    "    <html>\n",
    "        <head>\n",
    "            <title>Input Text</title>\n",
    "        </head>\n",
    "        <body>\n",
    "            <h1>부동산 주소검색</h1>\n",
    "            <form action=\"/\" method=\"POST\">\n",
    "                <p><input type=\"text\" name=\"Search\" placeholder=\"시군구 동 지번을 입력하세요\"></p>\n",
    "                <p><input type=\"submit\" value=\"Create\" onclick=\"document.getElementById('loading').style.display='block'\"></p>\n",
    "            </form>\n",
    "            <div id=\"loading\" style=\"display:none;\">검색중 다른작업을 우선으로 진행해주세요...</div>\n",
    "            <div>{}</div>\n",
    "        </body>\n",
    "        </html>\n",
    "        '''.format(result_string)\n",
    "\n",
    "if __name__ == \"__main__\":\n",
    "    app.run(debug=False)\n",
    "\n",
    "\n",
    "\n",
    "\n"
   ]
  },
  {
   "cell_type": "code",
   "execution_count": null,
   "metadata": {},
   "outputs": [],
   "source": []
  },
  {
   "cell_type": "code",
   "execution_count": null,
   "id": "5ef65c40",
   "metadata": {},
   "outputs": [],
   "source": []
  }
 ],
 "metadata": {
  "celltoolbar": "Edit Metadata",
  "kernelspec": {
   "display_name": "p38_yolov5",
   "language": "python",
   "name": "python3"
  },
  "language_info": {
   "codemirror_mode": {
    "name": "ipython",
    "version": 3
   },
   "file_extension": ".py",
   "mimetype": "text/x-python",
   "name": "python",
   "nbconvert_exporter": "python",
   "pygments_lexer": "ipython3",
   "version": "3.8.0"
  },
  "toc": {
   "base_numbering": 1,
   "nav_menu": {},
   "number_sections": true,
   "sideBar": true,
   "skip_h1_title": false,
   "title_cell": "Table of Contents",
   "title_sidebar": "Contents",
   "toc_cell": false,
   "toc_position": {},
   "toc_section_display": true,
   "toc_window_display": false
  },
  "vscode": {
   "interpreter": {
    "hash": "0bd6d10e7ee2a7e7217eeeeff9a6f888af60e77f05e3248a75c0c31110477623"
   }
  }
 },
 "nbformat": 4,
 "nbformat_minor": 5
}
